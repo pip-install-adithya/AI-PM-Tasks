{
  "cells": [
    {
      "cell_type": "markdown",
      "metadata": {
        "id": "Lh6BrgJUm2C2"
      },
      "source": [
        "#PyTorch Fundamentals"
      ]
    },
    {
      "cell_type": "code",
      "execution_count": 1,
      "metadata": {
        "colab": {
          "base_uri": "https://localhost:8080/"
        },
        "id": "igW9J8VYnRsp",
        "outputId": "fe18cd51-42b3-421d-e528-3b517bf06423"
      },
      "outputs": [
        {
          "name": "stdout",
          "output_type": "stream",
          "text": [
            "2.5.1+cpu\n"
          ]
        }
      ],
      "source": [
        "import torch\n",
        "import pandas as pd\n",
        "import numpy as np\n",
        "import matplotlib.pyplot as plt\n",
        "print(torch.__version__)"
      ]
    },
    {
      "cell_type": "markdown",
      "metadata": {
        "id": "I2PIzh9VnoZP"
      },
      "source": [
        "##Introduction to tensors"
      ]
    },
    {
      "cell_type": "markdown",
      "metadata": {
        "id": "oOhRjkLPn6XO"
      },
      "source": [
        "###Creating tensors"
      ]
    },
    {
      "cell_type": "code",
      "execution_count": 2,
      "metadata": {
        "colab": {
          "base_uri": "https://localhost:8080/"
        },
        "id": "IAzV7NkWn-SE",
        "outputId": "9d63c8db-520c-463f-edf1-9eb291017d4d"
      },
      "outputs": [
        {
          "data": {
            "text/plain": [
              "tensor(7)"
            ]
          },
          "execution_count": 2,
          "metadata": {},
          "output_type": "execute_result"
        }
      ],
      "source": [
        "#scalars\n",
        "scalar=torch.tensor(7)\n",
        "scalar"
      ]
    },
    {
      "cell_type": "code",
      "execution_count": 3,
      "metadata": {
        "colab": {
          "base_uri": "https://localhost:8080/"
        },
        "id": "cm-Z9Y1-oBRG",
        "outputId": "f5ad9c6c-bdfc-4720-9ecb-4a535e2d29b0"
      },
      "outputs": [
        {
          "data": {
            "text/plain": [
              "0"
            ]
          },
          "execution_count": 3,
          "metadata": {},
          "output_type": "execute_result"
        }
      ],
      "source": [
        "scalar.ndim"
      ]
    },
    {
      "cell_type": "code",
      "execution_count": 4,
      "metadata": {
        "colab": {
          "base_uri": "https://localhost:8080/"
        },
        "id": "Z2fuYVAqoISv",
        "outputId": "da2fdbbb-95b2-42af-b2c7-a8f06ce27027"
      },
      "outputs": [
        {
          "data": {
            "text/plain": [
              "tensor([7, 7])"
            ]
          },
          "execution_count": 4,
          "metadata": {},
          "output_type": "execute_result"
        }
      ],
      "source": [
        "#vector\n",
        "vector=torch.tensor([7,7])\n",
        "vector"
      ]
    },
    {
      "cell_type": "code",
      "execution_count": 5,
      "metadata": {
        "colab": {
          "base_uri": "https://localhost:8080/"
        },
        "id": "3V98-9IzoeIT",
        "outputId": "f04fd25d-261a-4fd8-939f-28d4daffb47e"
      },
      "outputs": [
        {
          "data": {
            "text/plain": [
              "1"
            ]
          },
          "execution_count": 5,
          "metadata": {},
          "output_type": "execute_result"
        }
      ],
      "source": [
        "vector.ndim"
      ]
    },
    {
      "cell_type": "code",
      "execution_count": 6,
      "metadata": {
        "colab": {
          "base_uri": "https://localhost:8080/"
        },
        "id": "jjv_qzBSogSD",
        "outputId": "ca38e14d-32a8-45a3-ac71-0055c05ca767"
      },
      "outputs": [
        {
          "data": {
            "text/plain": [
              "torch.Size([2])"
            ]
          },
          "execution_count": 6,
          "metadata": {},
          "output_type": "execute_result"
        }
      ],
      "source": [
        "vector.shape"
      ]
    },
    {
      "cell_type": "code",
      "execution_count": 7,
      "metadata": {
        "colab": {
          "base_uri": "https://localhost:8080/"
        },
        "id": "yMp1CIurohJ1",
        "outputId": "61bbc470-23f7-465a-d3b8-d853a1103e70"
      },
      "outputs": [
        {
          "data": {
            "text/plain": [
              "tensor([[1, 2],\n",
              "        [5, 6]])"
            ]
          },
          "execution_count": 7,
          "metadata": {},
          "output_type": "execute_result"
        }
      ],
      "source": [
        "#matrix\n",
        "matrix=torch.tensor([[1,2],\n",
        "                    [5,6]])\n",
        "matrix"
      ]
    },
    {
      "cell_type": "code",
      "execution_count": 8,
      "metadata": {
        "colab": {
          "base_uri": "https://localhost:8080/"
        },
        "id": "DEk-EPCTopxn",
        "outputId": "d0bc2666-20d6-4b13-985a-b600cfb10a82"
      },
      "outputs": [
        {
          "data": {
            "text/plain": [
              "2"
            ]
          },
          "execution_count": 8,
          "metadata": {},
          "output_type": "execute_result"
        }
      ],
      "source": [
        "matrix.ndim"
      ]
    },
    {
      "cell_type": "code",
      "execution_count": 9,
      "metadata": {
        "colab": {
          "base_uri": "https://localhost:8080/"
        },
        "id": "bBbtjHOfotLY",
        "outputId": "feffb64e-5fab-48a9-ac88-5c66cfec4edf"
      },
      "outputs": [
        {
          "data": {
            "text/plain": [
              "torch.Size([2, 2])"
            ]
          },
          "execution_count": 9,
          "metadata": {},
          "output_type": "execute_result"
        }
      ],
      "source": [
        "matrix.shape"
      ]
    },
    {
      "cell_type": "code",
      "execution_count": 10,
      "metadata": {
        "colab": {
          "base_uri": "https://localhost:8080/"
        },
        "id": "zwPSRdPyouQS",
        "outputId": "1174eb16-42cf-4069-baaa-4663bd6053b6"
      },
      "outputs": [
        {
          "data": {
            "text/plain": [
              "tensor([[[1, 2, 3],\n",
              "         [4, 5, 6],\n",
              "         [7, 8, 9]]])"
            ]
          },
          "execution_count": 10,
          "metadata": {},
          "output_type": "execute_result"
        }
      ],
      "source": [
        "#tensor\n",
        "tensor=torch.tensor([[[1,2,3],\n",
        "                      [4,5,6],\n",
        "                      [7,8,9]]])\n",
        "tensor"
      ]
    },
    {
      "cell_type": "code",
      "execution_count": 11,
      "metadata": {
        "colab": {
          "base_uri": "https://localhost:8080/"
        },
        "id": "_tkuSmEAo84w",
        "outputId": "10b66abb-32c9-4c66-8eba-146771e6fded"
      },
      "outputs": [
        {
          "data": {
            "text/plain": [
              "3"
            ]
          },
          "execution_count": 11,
          "metadata": {},
          "output_type": "execute_result"
        }
      ],
      "source": [
        "tensor.ndim"
      ]
    },
    {
      "cell_type": "code",
      "execution_count": 12,
      "metadata": {
        "colab": {
          "base_uri": "https://localhost:8080/"
        },
        "id": "lCQopcv4o90a",
        "outputId": "ccd7ee24-2f60-4e93-ea81-07ed06820660"
      },
      "outputs": [
        {
          "data": {
            "text/plain": [
              "torch.Size([1, 3, 3])"
            ]
          },
          "execution_count": 12,
          "metadata": {},
          "output_type": "execute_result"
        }
      ],
      "source": [
        "tensor.shape"
      ]
    },
    {
      "cell_type": "code",
      "execution_count": 13,
      "metadata": {
        "colab": {
          "base_uri": "https://localhost:8080/"
        },
        "id": "ADpLv-wBo-3G",
        "outputId": "19818123-4c8d-4be3-b52e-c476de7c51f1"
      },
      "outputs": [
        {
          "data": {
            "text/plain": [
              "tensor([[1, 2, 3],\n",
              "        [4, 5, 6],\n",
              "        [7, 8, 9]])"
            ]
          },
          "execution_count": 13,
          "metadata": {},
          "output_type": "execute_result"
        }
      ],
      "source": [
        "tensor[0]"
      ]
    },
    {
      "cell_type": "code",
      "execution_count": 14,
      "metadata": {
        "colab": {
          "base_uri": "https://localhost:8080/"
        },
        "id": "AocHWusepPLH",
        "outputId": "22fe1312-07ac-4657-ed94-94e589da340a"
      },
      "outputs": [
        {
          "data": {
            "text/plain": [
              "tensor(8)"
            ]
          },
          "execution_count": 14,
          "metadata": {},
          "output_type": "execute_result"
        }
      ],
      "source": [
        "tensor[0][2][1]"
      ]
    },
    {
      "cell_type": "markdown",
      "metadata": {
        "id": "rR9aiNhVpQFr"
      },
      "source": [
        "###Random Tensors"
      ]
    },
    {
      "cell_type": "code",
      "execution_count": 15,
      "metadata": {
        "colab": {
          "base_uri": "https://localhost:8080/"
        },
        "id": "x-g7WC-kphlm",
        "outputId": "3ffb6092-0d98-40ae-ef97-fd47e1799abd"
      },
      "outputs": [
        {
          "data": {
            "text/plain": [
              "tensor([[0.1333, 0.6598, 0.4923, 0.3493],\n",
              "        [0.2138, 0.9572, 0.8956, 0.4090],\n",
              "        [0.5884, 0.5900, 0.8154, 0.0732]])"
            ]
          },
          "execution_count": 15,
          "metadata": {},
          "output_type": "execute_result"
        }
      ],
      "source": [
        "#creating a random tensor\n",
        "random_tensor=torch.rand(3,4)\n",
        "random_tensor"
      ]
    },
    {
      "cell_type": "code",
      "execution_count": 16,
      "metadata": {
        "colab": {
          "base_uri": "https://localhost:8080/"
        },
        "id": "3mzydnwZp42R",
        "outputId": "91eeab83-d267-4641-9183-d781752fb36d"
      },
      "outputs": [
        {
          "data": {
            "text/plain": [
              "2"
            ]
          },
          "execution_count": 16,
          "metadata": {},
          "output_type": "execute_result"
        }
      ],
      "source": [
        "random_tensor.ndim"
      ]
    },
    {
      "cell_type": "code",
      "execution_count": 17,
      "metadata": {
        "colab": {
          "base_uri": "https://localhost:8080/"
        },
        "id": "PfBT9oiGp6bj",
        "outputId": "ee666db2-8f6b-41ab-f194-7e0c355672f9"
      },
      "outputs": [
        {
          "data": {
            "text/plain": [
              "tensor([[[6.2731e-01, 9.8134e-01, 8.6019e-01, 3.6878e-01, 6.5777e-01],\n",
              "         [9.9887e-02, 5.4364e-01, 5.7563e-01, 1.3834e-01, 5.8185e-01],\n",
              "         [7.7553e-01, 5.5790e-05, 8.0038e-01, 1.5214e-01, 5.5320e-01]]])"
            ]
          },
          "execution_count": 17,
          "metadata": {},
          "output_type": "execute_result"
        }
      ],
      "source": [
        "random_tensor=torch.rand(1,3,5)\n",
        "random_tensor"
      ]
    },
    {
      "cell_type": "code",
      "execution_count": 18,
      "metadata": {
        "colab": {
          "base_uri": "https://localhost:8080/"
        },
        "id": "uar1SPFDp-W8",
        "outputId": "e00c2073-26e1-4795-b795-e67483d27889"
      },
      "outputs": [
        {
          "data": {
            "text/plain": [
              "(3, torch.Size([1, 3, 5]))"
            ]
          },
          "execution_count": 18,
          "metadata": {},
          "output_type": "execute_result"
        }
      ],
      "source": [
        "random_tensor.ndim,random_tensor.shape"
      ]
    },
    {
      "cell_type": "code",
      "execution_count": 19,
      "metadata": {
        "colab": {
          "base_uri": "https://localhost:8080/"
        },
        "id": "_Vv56K_3qCwU",
        "outputId": "ca18c463-5f37-4ab6-a77d-d1660ee62853"
      },
      "outputs": [
        {
          "data": {
            "text/plain": [
              "tensor([[[0., 0., 0., 0., 0., 0., 0., 0., 0.],\n",
              "         [0., 0., 0., 0., 0., 0., 0., 0., 0.]],\n",
              "\n",
              "        [[0., 0., 0., 0., 0., 0., 0., 0., 0.],\n",
              "         [0., 0., 0., 0., 0., 0., 0., 0., 0.]],\n",
              "\n",
              "        [[0., 0., 0., 0., 0., 0., 0., 0., 0.],\n",
              "         [0., 0., 0., 0., 0., 0., 0., 0., 0.]],\n",
              "\n",
              "        [[0., 0., 0., 0., 0., 0., 0., 0., 0.],\n",
              "         [0., 0., 0., 0., 0., 0., 0., 0., 0.]]])"
            ]
          },
          "execution_count": 19,
          "metadata": {},
          "output_type": "execute_result"
        }
      ],
      "source": [
        "zero=torch.zeros(4,2,9)\n",
        "zero"
      ]
    },
    {
      "cell_type": "code",
      "execution_count": 20,
      "metadata": {
        "colab": {
          "base_uri": "https://localhost:8080/"
        },
        "id": "4t9LxCuqAv-a",
        "outputId": "5b219537-4eb2-44b8-c9a2-ed6cc95cffb9"
      },
      "outputs": [
        {
          "data": {
            "text/plain": [
              "torch.float32"
            ]
          },
          "execution_count": 20,
          "metadata": {},
          "output_type": "execute_result"
        }
      ],
      "source": [
        "zero.dtype"
      ]
    },
    {
      "cell_type": "code",
      "execution_count": 21,
      "metadata": {
        "colab": {
          "base_uri": "https://localhost:8080/"
        },
        "id": "z5yP64OvqmRW",
        "outputId": "9c606604-079c-4488-88fd-2cbde5f08557"
      },
      "outputs": [
        {
          "data": {
            "text/plain": [
              "tensor([[1., 1., 1., 1., 1., 1., 1., 1., 1.],\n",
              "        [1., 1., 1., 1., 1., 1., 1., 1., 1.],\n",
              "        [1., 1., 1., 1., 1., 1., 1., 1., 1.],\n",
              "        [1., 1., 1., 1., 1., 1., 1., 1., 1.],\n",
              "        [1., 1., 1., 1., 1., 1., 1., 1., 1.],\n",
              "        [1., 1., 1., 1., 1., 1., 1., 1., 1.]])"
            ]
          },
          "execution_count": 21,
          "metadata": {},
          "output_type": "execute_result"
        }
      ],
      "source": [
        "ones=torch.ones(6,9)\n",
        "ones"
      ]
    },
    {
      "cell_type": "code",
      "execution_count": 22,
      "metadata": {
        "colab": {
          "base_uri": "https://localhost:8080/"
        },
        "id": "gl5URPqkqqSn",
        "outputId": "dbff2e20-a8b0-4156-8646-9553eb539628"
      },
      "outputs": [
        {
          "data": {
            "text/plain": [
              "torch.float32"
            ]
          },
          "execution_count": 22,
          "metadata": {},
          "output_type": "execute_result"
        }
      ],
      "source": [
        "ones.dtype"
      ]
    },
    {
      "cell_type": "code",
      "execution_count": 23,
      "metadata": {
        "colab": {
          "base_uri": "https://localhost:8080/"
        },
        "id": "qxO1tIRgqtEk",
        "outputId": "f42fe4e7-1654-4bb2-9265-b82e9b4d69a3"
      },
      "outputs": [
        {
          "data": {
            "text/plain": [
              "tensor([  0,  15,  30,  45,  60,  75,  90, 105, 120, 135, 150, 165, 180, 195,\n",
              "        210, 225, 240, 255, 270, 285, 300, 315, 330, 345, 360, 375, 390, 405,\n",
              "        420, 435, 450, 465, 480, 495, 510, 525, 540, 555, 570, 585, 600, 615,\n",
              "        630, 645, 660, 675, 690, 705, 720, 735, 750, 765, 780, 795, 810, 825,\n",
              "        840, 855, 870, 885, 900, 915, 930, 945, 960, 975, 990])"
            ]
          },
          "execution_count": 23,
          "metadata": {},
          "output_type": "execute_result"
        }
      ],
      "source": [
        "#creating a tensor with range\n",
        "range_tensor=torch.arange(start=0,end=1000,step=15)\n",
        "range_tensor"
      ]
    },
    {
      "cell_type": "code",
      "execution_count": 24,
      "metadata": {
        "colab": {
          "base_uri": "https://localhost:8080/"
        },
        "id": "lsyK_L7phsQP",
        "outputId": "1220d13f-0dbc-4f21-dc6b-388b75d350c3"
      },
      "outputs": [
        {
          "data": {
            "text/plain": [
              "torch.Size([67])"
            ]
          },
          "execution_count": 24,
          "metadata": {},
          "output_type": "execute_result"
        }
      ],
      "source": [
        "range_tensor.shape"
      ]
    },
    {
      "cell_type": "code",
      "execution_count": 25,
      "metadata": {
        "colab": {
          "base_uri": "https://localhost:8080/"
        },
        "id": "45MDTcjMq1Re",
        "outputId": "c9cf203c-940f-44af-f04f-ab83671bde36"
      },
      "outputs": [
        {
          "name": "stdout",
          "output_type": "stream",
          "text": [
            "tensor([0, 0, 0, 0, 0, 0, 0, 0, 0, 0, 0, 0, 0, 0, 0, 0, 0, 0, 0, 0, 0, 0, 0, 0,\n",
            "        0, 0, 0, 0, 0, 0, 0, 0, 0, 0, 0, 0, 0, 0, 0, 0, 0, 0, 0, 0, 0, 0, 0, 0,\n",
            "        0, 0, 0, 0, 0, 0, 0, 0, 0, 0, 0, 0, 0, 0, 0, 0, 0, 0, 0])\n"
          ]
        },
        {
          "data": {
            "text/plain": [
              "torch.Size([67])"
            ]
          },
          "execution_count": 25,
          "metadata": {},
          "output_type": "execute_result"
        }
      ],
      "source": [
        "#to create tensors with similar shape to another tensor\n",
        "zeros_like=torch.zeros_like(input=range_tensor)\n",
        "print(zeros_like)\n",
        "zeros_like.shape"
      ]
    },
    {
      "cell_type": "markdown",
      "metadata": {
        "id": "q8ykhnTmrrO6"
      },
      "source": [
        "###Tensor Datatypes"
      ]
    },
    {
      "cell_type": "code",
      "execution_count": 26,
      "metadata": {
        "colab": {
          "base_uri": "https://localhost:8080/"
        },
        "id": "__y2qoVBr-u6",
        "outputId": "cde1d779-9406-427b-de16-04bed23a44f3"
      },
      "outputs": [
        {
          "data": {
            "text/plain": [
              "tensor([[9., 8., 7.],\n",
              "        [6., 7., 8.]], dtype=torch.float16)"
            ]
          },
          "execution_count": 26,
          "metadata": {},
          "output_type": "execute_result"
        }
      ],
      "source": [
        "float_16_tensor=torch.tensor([[9,8,7],\n",
        "                              [6,7,8]],\n",
        "                             dtype=torch.float16)\n",
        "float_16_tensor"
      ]
    },
    {
      "cell_type": "code",
      "execution_count": 27,
      "metadata": {
        "colab": {
          "base_uri": "https://localhost:8080/"
        },
        "id": "TjZPNGpZh8kh",
        "outputId": "33f503ac-1cb9-4804-cc85-09f07fd42f94"
      },
      "outputs": [
        {
          "data": {
            "text/plain": [
              "torch.float16"
            ]
          },
          "execution_count": 27,
          "metadata": {},
          "output_type": "execute_result"
        }
      ],
      "source": [
        "float_16_tensor.dtype"
      ]
    },
    {
      "cell_type": "code",
      "execution_count": 28,
      "metadata": {
        "colab": {
          "base_uri": "https://localhost:8080/"
        },
        "id": "8MrGxea_sOV-",
        "outputId": "b0a2703f-a874-4bac-b5a5-abf24d6c134f"
      },
      "outputs": [
        {
          "data": {
            "text/plain": [
              "tensor([1, 2, 3])"
            ]
          },
          "execution_count": 28,
          "metadata": {},
          "output_type": "execute_result"
        }
      ],
      "source": [
        "torch.tensor([1,2,3],\n",
        "             dtype=None, #to edit the datatype of the tensor\n",
        "             device=None, #what device the tensor is on\n",
        "             requires_grad=False) #whether or not to track the gradients"
      ]
    },
    {
      "cell_type": "code",
      "execution_count": 29,
      "metadata": {
        "colab": {
          "base_uri": "https://localhost:8080/"
        },
        "id": "vgiuNDu_tEwn",
        "outputId": "40352ed4-697b-48a0-a1f8-4041ea68d997"
      },
      "outputs": [
        {
          "data": {
            "text/plain": [
              "tensor([[9., 8., 7.],\n",
              "        [6., 7., 8.]], dtype=torch.float64)"
            ]
          },
          "execution_count": 29,
          "metadata": {},
          "output_type": "execute_result"
        }
      ],
      "source": [
        "float_64_tensor=float_16_tensor.type(torch.float64)\n",
        "float_64_tensor"
      ]
    },
    {
      "cell_type": "code",
      "execution_count": 30,
      "metadata": {
        "colab": {
          "base_uri": "https://localhost:8080/"
        },
        "id": "9fOIyt9dtSUN",
        "outputId": "ac0cb503-3091-4225-d771-47b1a2545a4d"
      },
      "outputs": [
        {
          "data": {
            "text/plain": [
              "tensor([[81., 64., 49.],\n",
              "        [36., 49., 64.]], dtype=torch.float64)"
            ]
          },
          "execution_count": 30,
          "metadata": {},
          "output_type": "execute_result"
        }
      ],
      "source": [
        "float_16_tensor*float_64_tensor #dtype promotion"
      ]
    },
    {
      "cell_type": "code",
      "execution_count": 31,
      "metadata": {
        "colab": {
          "base_uri": "https://localhost:8080/"
        },
        "id": "rbyNxc8RtfF6",
        "outputId": "48adaf30-8a70-4fc9-e42f-d0676d673d2f"
      },
      "outputs": [
        {
          "data": {
            "text/plain": [
              "tensor([3, 6, 9], dtype=torch.int32)"
            ]
          },
          "execution_count": 31,
          "metadata": {},
          "output_type": "execute_result"
        }
      ],
      "source": [
        "int_32_tensor=torch.tensor([3,6,9],dtype=torch.int32)\n",
        "int_32_tensor"
      ]
    },
    {
      "cell_type": "code",
      "execution_count": 32,
      "metadata": {
        "colab": {
          "base_uri": "https://localhost:8080/"
        },
        "id": "-EY3wEAEtqlv",
        "outputId": "adffc3f2-a596-4201-df9b-1bb8230d197e"
      },
      "outputs": [
        {
          "data": {
            "text/plain": [
              "tensor([[27., 48., 63.],\n",
              "        [18., 42., 72.]], dtype=torch.float16)"
            ]
          },
          "execution_count": 32,
          "metadata": {},
          "output_type": "execute_result"
        }
      ],
      "source": [
        "float_16_tensor*int_32_tensor #dtype promotion"
      ]
    },
    {
      "cell_type": "markdown",
      "metadata": {
        "id": "dX0MHxSMtxSp"
      },
      "source": [
        "###Getting attributes from tensor\n",
        "\n",
        "1. Getting datatype- use tensor.dtype\n",
        "2. Getting shape   - use tensor.shape\n",
        "3. Getting device  - use tensor.device"
      ]
    },
    {
      "cell_type": "code",
      "execution_count": 33,
      "metadata": {
        "colab": {
          "base_uri": "https://localhost:8080/"
        },
        "id": "hmXIIRANt_NX",
        "outputId": "231ba35b-2c70-4e58-d134-293846432e07"
      },
      "outputs": [
        {
          "data": {
            "text/plain": [
              "tensor([[[0.7081, 0.2257, 0.4782, 0.7588, 0.2166, 0.0379, 0.4216],\n",
              "         [0.1724, 0.1919, 0.6122, 0.1661, 0.5477, 0.8608, 0.0567],\n",
              "         [0.1872, 0.6961, 0.8047, 0.2439, 0.5574, 0.7343, 0.8985],\n",
              "         [0.3325, 0.7032, 0.3419, 0.6095, 0.6519, 0.6841, 0.3027]],\n",
              "\n",
              "        [[0.4387, 0.7312, 0.3807, 0.8565, 0.7226, 0.0643, 0.5323],\n",
              "         [0.0068, 0.9184, 0.8504, 0.4877, 0.4452, 0.7374, 0.7788],\n",
              "         [0.5096, 0.7737, 0.3895, 0.0985, 0.2572, 0.0519, 0.5229],\n",
              "         [0.1738, 0.7948, 0.9515, 0.6573, 0.0748, 0.0956, 0.8461]],\n",
              "\n",
              "        [[0.1248, 0.3378, 0.0596, 0.5036, 0.3680, 0.7130, 0.3236],\n",
              "         [0.4219, 0.7329, 0.9434, 0.5368, 0.7314, 0.5714, 0.5715],\n",
              "         [0.4877, 0.5460, 0.4803, 0.5839, 0.3884, 0.5394, 0.4538],\n",
              "         [0.9102, 0.9782, 0.6511, 0.6872, 0.2777, 0.8051, 0.7630]]])"
            ]
          },
          "execution_count": 33,
          "metadata": {},
          "output_type": "execute_result"
        }
      ],
      "source": [
        "tensor_random=torch.rand(3,4,7)\n",
        "tensor_random"
      ]
    },
    {
      "cell_type": "code",
      "execution_count": 34,
      "metadata": {
        "colab": {
          "base_uri": "https://localhost:8080/"
        },
        "id": "1mjXzBsauE05",
        "outputId": "bcb5d902-b268-4ea2-c7a8-5e6528da5923"
      },
      "outputs": [
        {
          "data": {
            "text/plain": [
              "(torch.Size([3, 4, 7]), torch.float32, device(type='cpu'))"
            ]
          },
          "execution_count": 34,
          "metadata": {},
          "output_type": "execute_result"
        }
      ],
      "source": [
        "tensor_random.shape,tensor_random.dtype,tensor_random.device"
      ]
    },
    {
      "cell_type": "code",
      "execution_count": 35,
      "metadata": {
        "colab": {
          "base_uri": "https://localhost:8080/"
        },
        "id": "9QO8aEKKuOwG",
        "outputId": "48217798-018d-4acd-9402-5e86f9af24d6"
      },
      "outputs": [
        {
          "data": {
            "text/plain": [
              "(torch.Size([3]), torch.int32, device(type='cpu'))"
            ]
          },
          "execution_count": 35,
          "metadata": {},
          "output_type": "execute_result"
        }
      ],
      "source": [
        "int_32_tensor.shape,int_32_tensor.dtype,int_32_tensor.device"
      ]
    },
    {
      "cell_type": "markdown",
      "metadata": {
        "id": "XbNItdE5uY3e"
      },
      "source": [
        "###Tensor Operations\n",
        "\n",
        "1. Addition\n",
        "2. Subtraction\n",
        "3. Multiplication\n",
        "4. division\n",
        "5. Matrix Multiplication"
      ]
    },
    {
      "cell_type": "code",
      "execution_count": 36,
      "metadata": {
        "colab": {
          "base_uri": "https://localhost:8080/"
        },
        "id": "VjfVSd-9uqD4",
        "outputId": "aa1b9471-cf44-48e9-9518-0a5b5a401daa"
      },
      "outputs": [
        {
          "data": {
            "text/plain": [
              "tensor([[[10.7081, 10.2257, 10.4782, 10.7588, 10.2166, 10.0379, 10.4216],\n",
              "         [10.1724, 10.1919, 10.6122, 10.1661, 10.5477, 10.8608, 10.0567],\n",
              "         [10.1872, 10.6961, 10.8047, 10.2439, 10.5574, 10.7343, 10.8985],\n",
              "         [10.3325, 10.7032, 10.3419, 10.6095, 10.6519, 10.6841, 10.3027]],\n",
              "\n",
              "        [[10.4387, 10.7312, 10.3807, 10.8565, 10.7226, 10.0643, 10.5323],\n",
              "         [10.0068, 10.9184, 10.8504, 10.4877, 10.4452, 10.7374, 10.7788],\n",
              "         [10.5096, 10.7737, 10.3895, 10.0985, 10.2572, 10.0519, 10.5229],\n",
              "         [10.1738, 10.7948, 10.9515, 10.6573, 10.0748, 10.0956, 10.8461]],\n",
              "\n",
              "        [[10.1248, 10.3378, 10.0596, 10.5036, 10.3680, 10.7130, 10.3236],\n",
              "         [10.4219, 10.7329, 10.9434, 10.5368, 10.7314, 10.5714, 10.5715],\n",
              "         [10.4877, 10.5460, 10.4803, 10.5839, 10.3884, 10.5394, 10.4538],\n",
              "         [10.9102, 10.9782, 10.6511, 10.6872, 10.2777, 10.8051, 10.7630]]])"
            ]
          },
          "execution_count": 36,
          "metadata": {},
          "output_type": "execute_result"
        }
      ],
      "source": [
        "#addition\n",
        "tensor_random+10\n",
        "#do the same operation for all values"
      ]
    },
    {
      "cell_type": "code",
      "execution_count": 37,
      "metadata": {
        "colab": {
          "base_uri": "https://localhost:8080/"
        },
        "id": "GQorhk6putIA",
        "outputId": "b1cda677-7471-4b8a-9831-c03d15fc5578"
      },
      "outputs": [
        {
          "data": {
            "text/plain": [
              "tensor([[[14.8698,  4.7405, 10.0420, 15.9357,  4.5493,  0.7962,  8.8543],\n",
              "         [ 3.6200,  4.0293, 12.8566,  3.4875, 11.5013, 18.0778,  1.1914],\n",
              "         [ 3.9321, 14.6178, 16.8978,  5.1211, 11.7053, 15.4199, 18.8677],\n",
              "         [ 6.9833, 14.7681,  7.1798, 12.7990, 13.6906, 14.3668,  6.3562]],\n",
              "\n",
              "        [[ 9.2124, 15.3558,  7.9945, 17.9860, 15.1754,  1.3503, 11.1787],\n",
              "         [ 0.1433, 19.2867, 17.8575, 10.2410,  9.3486, 15.4860, 16.3556],\n",
              "         [10.7020, 16.2481,  8.1789,  2.0687,  5.4002,  1.0909, 10.9803],\n",
              "         [ 3.6508, 16.6914, 19.9810, 13.8035,  1.5706,  2.0084, 17.7677]],\n",
              "\n",
              "        [[ 2.6211,  7.0948,  1.2515, 10.5752,  7.7285, 14.9732,  6.7962],\n",
              "         [ 8.8609, 15.3914, 19.8124, 11.2726, 15.3590, 12.0003, 12.0010],\n",
              "         [10.2421, 11.4665, 10.0865, 12.2615,  8.1556, 11.3277,  9.5290],\n",
              "         [19.1147, 20.5420, 13.6733, 14.4317,  5.8312, 16.9078, 16.0232]]])"
            ]
          },
          "execution_count": 37,
          "metadata": {},
          "output_type": "execute_result"
        }
      ],
      "source": [
        "#multiplication\n",
        "tensor_random*21"
      ]
    },
    {
      "cell_type": "code",
      "execution_count": 38,
      "metadata": {
        "colab": {
          "base_uri": "https://localhost:8080/"
        },
        "id": "XhtkYsvquwdS",
        "outputId": "c4a20d8b-a5ce-4a7a-89ef-0c98c4c4dee2"
      },
      "outputs": [
        {
          "data": {
            "text/plain": [
              "tensor([[[-8.2919, -8.7743, -8.5218, -8.2412, -8.7834, -8.9621, -8.5784],\n",
              "         [-8.8276, -8.8081, -8.3878, -8.8339, -8.4523, -8.1392, -8.9433],\n",
              "         [-8.8128, -8.3039, -8.1953, -8.7561, -8.4426, -8.2657, -8.1015],\n",
              "         [-8.6675, -8.2968, -8.6581, -8.3905, -8.3481, -8.3159, -8.6973]],\n",
              "\n",
              "        [[-8.5613, -8.2688, -8.6193, -8.1435, -8.2774, -8.9357, -8.4677],\n",
              "         [-8.9932, -8.0816, -8.1496, -8.5123, -8.5548, -8.2626, -8.2212],\n",
              "         [-8.4904, -8.2263, -8.6105, -8.9015, -8.7428, -8.9481, -8.4771],\n",
              "         [-8.8262, -8.2052, -8.0485, -8.3427, -8.9252, -8.9044, -8.1539]],\n",
              "\n",
              "        [[-8.8752, -8.6622, -8.9404, -8.4964, -8.6320, -8.2870, -8.6764],\n",
              "         [-8.5781, -8.2671, -8.0566, -8.4632, -8.2686, -8.4286, -8.4285],\n",
              "         [-8.5123, -8.4540, -8.5197, -8.4161, -8.6116, -8.4606, -8.5462],\n",
              "         [-8.0898, -8.0218, -8.3489, -8.3128, -8.7223, -8.1949, -8.2370]]])"
            ]
          },
          "execution_count": 38,
          "metadata": {},
          "output_type": "execute_result"
        }
      ],
      "source": [
        "#subtraction\n",
        "tensor_random-9"
      ]
    },
    {
      "cell_type": "code",
      "execution_count": 39,
      "metadata": {
        "colab": {
          "base_uri": "https://localhost:8080/"
        },
        "id": "R9EQCIACuyy8",
        "outputId": "57917653-6b5d-4c39-d359-4e5a456bffb5"
      },
      "outputs": [
        {
          "name": "stdout",
          "output_type": "stream",
          "text": [
            "Multiplying 10 : tensor([[[7.0808, 2.2574, 4.7819, 7.5885, 2.1663, 0.3791, 4.2163],\n",
            "         [1.7238, 1.9187, 6.1222, 1.6607, 5.4768, 8.6085, 0.5674],\n",
            "         [1.8724, 6.9609, 8.0466, 2.4386, 5.5740, 7.3428, 8.9846],\n",
            "         [3.3254, 7.0324, 3.4190, 6.0948, 6.5194, 6.8413, 3.0267]],\n",
            "\n",
            "        [[4.3868, 7.3123, 3.8069, 8.5647, 7.2264, 0.6430, 5.3232],\n",
            "         [0.0682, 9.1841, 8.5036, 4.8767, 4.4517, 7.3743, 7.7884],\n",
            "         [5.0962, 7.7372, 3.8947, 0.9851, 2.5715, 0.5195, 5.2287],\n",
            "         [1.7385, 7.9483, 9.5148, 6.5731, 0.7479, 0.9564, 8.4608]],\n",
            "\n",
            "        [[1.2481, 3.3785, 0.5960, 5.0358, 3.6802, 7.1301, 3.2363],\n",
            "         [4.2195, 7.3293, 9.4345, 5.3679, 7.3138, 5.7144, 5.7148],\n",
            "         [4.8772, 5.4602, 4.8031, 5.8388, 3.8836, 5.3941, 4.5376],\n",
            "         [9.1022, 9.7819, 6.5111, 6.8722, 2.7768, 8.0513, 7.6301]]])\n",
            "Adding 10 : tensor([[[10.7081, 10.2257, 10.4782, 10.7588, 10.2166, 10.0379, 10.4216],\n",
            "         [10.1724, 10.1919, 10.6122, 10.1661, 10.5477, 10.8608, 10.0567],\n",
            "         [10.1872, 10.6961, 10.8047, 10.2439, 10.5574, 10.7343, 10.8985],\n",
            "         [10.3325, 10.7032, 10.3419, 10.6095, 10.6519, 10.6841, 10.3027]],\n",
            "\n",
            "        [[10.4387, 10.7312, 10.3807, 10.8565, 10.7226, 10.0643, 10.5323],\n",
            "         [10.0068, 10.9184, 10.8504, 10.4877, 10.4452, 10.7374, 10.7788],\n",
            "         [10.5096, 10.7737, 10.3895, 10.0985, 10.2572, 10.0519, 10.5229],\n",
            "         [10.1738, 10.7948, 10.9515, 10.6573, 10.0748, 10.0956, 10.8461]],\n",
            "\n",
            "        [[10.1248, 10.3378, 10.0596, 10.5036, 10.3680, 10.7130, 10.3236],\n",
            "         [10.4219, 10.7329, 10.9434, 10.5368, 10.7314, 10.5714, 10.5715],\n",
            "         [10.4877, 10.5460, 10.4803, 10.5839, 10.3884, 10.5394, 10.4538],\n",
            "         [10.9102, 10.9782, 10.6511, 10.6872, 10.2777, 10.8051, 10.7630]]])\n"
          ]
        }
      ],
      "source": [
        "#functions\n",
        "tensor=torch.mul(tensor_random,10)\n",
        "print(f\"Multiplying 10 : {tensor}\")\n",
        "tensor=torch.add(tensor_random,10)\n",
        "print(f\"Adding 10 : {tensor}\")"
      ]
    },
    {
      "cell_type": "markdown",
      "metadata": {
        "id": "e1TfMaoqvT0S"
      },
      "source": [
        "####Matrix Multiplication\n",
        "\n",
        "1. Element wise multiplication\n",
        "2. Multiplying with another matrix i.e dot product"
      ]
    },
    {
      "cell_type": "code",
      "execution_count": 40,
      "metadata": {
        "colab": {
          "base_uri": "https://localhost:8080/"
        },
        "id": "abXgQVl0vjF9",
        "outputId": "648fd8c0-a3a6-49d9-e73d-f09a7aa391f9"
      },
      "outputs": [
        {
          "name": "stdout",
          "output_type": "stream",
          "text": [
            "tensor([3, 6, 9], dtype=torch.int32)\n",
            "tensor([[9., 8., 7.],\n",
            "        [6., 7., 8.]], dtype=torch.float16)\n"
          ]
        },
        {
          "data": {
            "text/plain": [
              "tensor([[27., 48., 63.],\n",
              "        [18., 42., 72.]], dtype=torch.float16)"
            ]
          },
          "execution_count": 40,
          "metadata": {},
          "output_type": "execute_result"
        }
      ],
      "source": [
        "#Element wise multiplication\n",
        "print(int_32_tensor)\n",
        "print(float_16_tensor)\n",
        "element_mul=int_32_tensor*float_16_tensor\n",
        "element_mul"
      ]
    },
    {
      "cell_type": "code",
      "execution_count": 41,
      "metadata": {
        "colab": {
          "base_uri": "https://localhost:8080/"
        },
        "id": "CXoIWF1pw1Za",
        "outputId": "6141a7f1-3448-423f-bf44-c24a7e3cfd77"
      },
      "outputs": [
        {
          "data": {
            "text/plain": [
              "(tensor([[0.9646, 1.5628, 1.8040, 2.1598],\n",
              "         [0.5392, 0.7482, 0.8898, 1.1502],\n",
              "         [0.6967, 0.9212, 0.6549, 1.2693],\n",
              "         [1.2404, 1.8272, 1.7055, 2.4629]]),\n",
              " tensor([[0.9646, 1.5628, 1.8040, 2.1598],\n",
              "         [0.5392, 0.7482, 0.8898, 1.1502],\n",
              "         [0.6967, 0.9212, 0.6549, 1.2693],\n",
              "         [1.2404, 1.8272, 1.7055, 2.4629]]),\n",
              " tensor([[0.6470, 1.3593, 0.7157, 1.0027, 1.3283],\n",
              "         [0.5576, 0.6439, 1.0444, 0.6536, 1.0113],\n",
              "         [0.5370, 1.0272, 0.7764, 0.8657, 1.2048],\n",
              "         [0.8384, 1.4372, 1.1553, 1.1332, 1.6098],\n",
              "         [0.9697, 1.5996, 1.1999, 1.1318, 1.6300]]))"
            ]
          },
          "execution_count": 41,
          "metadata": {},
          "output_type": "execute_result"
        }
      ],
      "source": [
        "#matrix multiplicationt\n",
        "tensor_1=torch.rand(4,5)\n",
        "tensor_2=torch.rand(5,4)\n",
        "\n",
        "mat_mul=torch.matmul(tensor_1,tensor_2)\n",
        "mat_mul_short=torch.mm(tensor_1,tensor_2)#alias of matmul\n",
        "mat_mul_inv=torch.mm(tensor_2,tensor_1)\n",
        "\n",
        "mat_mul,mat_mul_short,mat_mul_inv"
      ]
    },
    {
      "cell_type": "code",
      "execution_count": 42,
      "metadata": {
        "colab": {
          "base_uri": "https://localhost:8080/",
          "height": 193
        },
        "id": "klW05ap0xCtR",
        "outputId": "54505da3-79d2-4682-b1ea-669671e2d468"
      },
      "outputs": [
        {
          "ename": "RuntimeError",
          "evalue": "mat1 and mat2 shapes cannot be multiplied (3x4 and 2x3)",
          "output_type": "error",
          "traceback": [
            "\u001b[1;31m---------------------------------------------------------------------------\u001b[0m",
            "\u001b[1;31mRuntimeError\u001b[0m                              Traceback (most recent call last)",
            "Cell \u001b[1;32mIn[42], line 5\u001b[0m\n\u001b[0;32m      2\u001b[0m tensor_mul_1\u001b[38;5;241m=\u001b[39mtorch\u001b[38;5;241m.\u001b[39mrand(\u001b[38;5;241m3\u001b[39m,\u001b[38;5;241m4\u001b[39m)\n\u001b[0;32m      3\u001b[0m tensor_mul_2\u001b[38;5;241m=\u001b[39mtorch\u001b[38;5;241m.\u001b[39mrand(\u001b[38;5;241m2\u001b[39m,\u001b[38;5;241m3\u001b[39m)\n\u001b[1;32m----> 5\u001b[0m mat_mul_tensor\u001b[38;5;241m=\u001b[39m\u001b[43mtorch\u001b[49m\u001b[38;5;241;43m.\u001b[39;49m\u001b[43mmatmul\u001b[49m\u001b[43m(\u001b[49m\u001b[43mtensor_mul_1\u001b[49m\u001b[43m,\u001b[49m\u001b[43mtensor_mul_2\u001b[49m\u001b[43m)\u001b[49m \u001b[38;5;66;03m#the inner dimensions must match\u001b[39;00m\n\u001b[0;32m      6\u001b[0m mat_mul_tensor\n",
            "\u001b[1;31mRuntimeError\u001b[0m: mat1 and mat2 shapes cannot be multiplied (3x4 and 2x3)"
          ]
        }
      ],
      "source": [
        "#the most common error in matrix multiplication : shape error\n",
        "tensor_mul_1=torch.rand(3,4)\n",
        "tensor_mul_2=torch.rand(2,3)\n",
        "\n",
        "mat_mul_tensor=torch.matmul(tensor_mul_1,tensor_mul_2) #the inner dimensions must match\n",
        "mat_mul_tensor"
      ]
    },
    {
      "cell_type": "code",
      "execution_count": 43,
      "metadata": {
        "colab": {
          "base_uri": "https://localhost:8080/"
        },
        "id": "Xkp53IMk4zpL",
        "outputId": "ad69a6c3-d304-4652-cace-ee47b77ed081"
      },
      "outputs": [
        {
          "data": {
            "text/plain": [
              "(tensor([[1, 3, 5],\n",
              "         [2, 4, 6]]),\n",
              " tensor([[ 7,  8,  9],\n",
              "         [10, 11, 12]]))"
            ]
          },
          "execution_count": 43,
          "metadata": {},
          "output_type": "execute_result"
        }
      ],
      "source": [
        "#using transpose\n",
        "tensor_A=torch.tensor([[1,2],\n",
        "                       [3,4],\n",
        "                       [5,6]])\n",
        "tensor_B=torch.tensor([[7,10],\n",
        "                       [8,11],\n",
        "                       [9,12]])\n",
        "tensor_A.T,tensor_B.T"
      ]
    },
    {
      "cell_type": "code",
      "execution_count": 44,
      "metadata": {
        "colab": {
          "base_uri": "https://localhost:8080/"
        },
        "id": "zfcQMLBf6FU0",
        "outputId": "846a86c8-aef1-49f2-ca5d-5d2592e8d37b"
      },
      "outputs": [
        {
          "data": {
            "text/plain": [
              "tensor([[ 27,  30,  33],\n",
              "        [ 61,  68,  75],\n",
              "        [ 95, 106, 117]])"
            ]
          },
          "execution_count": 44,
          "metadata": {},
          "output_type": "execute_result"
        }
      ],
      "source": [
        "tensor_C=torch.mm(tensor_A,tensor_B.T)\n",
        "tensor_C"
      ]
    },
    {
      "cell_type": "markdown",
      "metadata": {
        "id": "mMMQo9zI6LEs"
      },
      "source": [
        "###Tensor Aggregation\n",
        "1. Mean\n",
        "2. Max\n",
        "3. Min\n",
        "4. Sum"
      ]
    },
    {
      "cell_type": "code",
      "execution_count": 45,
      "metadata": {
        "colab": {
          "base_uri": "https://localhost:8080/"
        },
        "id": "NkiOs9Fb7AjA",
        "outputId": "94e63b7a-2d74-4fef-ec08-b4efb6a88f65"
      },
      "outputs": [
        {
          "data": {
            "text/plain": [
              "tensor([ 0,  5, 10, 15, 20, 25, 30, 35, 40, 45, 50, 55, 60, 65, 70, 75, 80, 85,\n",
              "        90, 95])"
            ]
          },
          "execution_count": 45,
          "metadata": {},
          "output_type": "execute_result"
        }
      ],
      "source": [
        "x=torch.arange(0,100,5)\n",
        "x"
      ]
    },
    {
      "cell_type": "code",
      "execution_count": 46,
      "metadata": {
        "colab": {
          "base_uri": "https://localhost:8080/"
        },
        "id": "t6EBgT657GJP",
        "outputId": "2819590d-2912-4446-e549-7d787e5cfcce"
      },
      "outputs": [
        {
          "data": {
            "text/plain": [
              "tensor(0)"
            ]
          },
          "execution_count": 46,
          "metadata": {},
          "output_type": "execute_result"
        }
      ],
      "source": [
        "#min\n",
        "torch.min(x)"
      ]
    },
    {
      "cell_type": "code",
      "execution_count": 47,
      "metadata": {
        "colab": {
          "base_uri": "https://localhost:8080/"
        },
        "id": "e8HMy5xm7Md1",
        "outputId": "2581f220-44d9-44ac-e8c6-b877491ec590"
      },
      "outputs": [
        {
          "data": {
            "text/plain": [
              "tensor(95)"
            ]
          },
          "execution_count": 47,
          "metadata": {},
          "output_type": "execute_result"
        }
      ],
      "source": [
        "#max\n",
        "torch.max(x)"
      ]
    },
    {
      "cell_type": "code",
      "execution_count": 48,
      "metadata": {
        "colab": {
          "base_uri": "https://localhost:8080/",
          "height": 176
        },
        "id": "jcQs4x9n7OUt",
        "outputId": "93b1c9e3-ef01-4926-d392-95725a9b1794"
      },
      "outputs": [
        {
          "ename": "RuntimeError",
          "evalue": "mean(): could not infer output dtype. Input dtype must be either a floating point or complex dtype. Got: Long",
          "output_type": "error",
          "traceback": [
            "\u001b[1;31m---------------------------------------------------------------------------\u001b[0m",
            "\u001b[1;31mRuntimeError\u001b[0m                              Traceback (most recent call last)",
            "Cell \u001b[1;32mIn[48], line 2\u001b[0m\n\u001b[0;32m      1\u001b[0m \u001b[38;5;66;03m#mean\u001b[39;00m\n\u001b[1;32m----> 2\u001b[0m \u001b[43mtorch\u001b[49m\u001b[38;5;241;43m.\u001b[39;49m\u001b[43mmean\u001b[49m\u001b[43m(\u001b[49m\u001b[43mx\u001b[49m\u001b[43m)\u001b[49m\n\u001b[0;32m      3\u001b[0m \u001b[38;5;66;03m#output shd match the tensor dtype\u001b[39;00m\n",
            "\u001b[1;31mRuntimeError\u001b[0m: mean(): could not infer output dtype. Input dtype must be either a floating point or complex dtype. Got: Long"
          ]
        }
      ],
      "source": [
        "#mean\n",
        "torch.mean(x)\n",
        "#output shd match the tensor dtype"
      ]
    },
    {
      "cell_type": "markdown",
      "metadata": {
        "id": "9VCPLIvs7Wa1"
      },
      "source": [
        "torch.mean doesnt work with int types."
      ]
    },
    {
      "cell_type": "code",
      "execution_count": 49,
      "metadata": {
        "colab": {
          "base_uri": "https://localhost:8080/"
        },
        "id": "VvBf7iS07UrK",
        "outputId": "91e541f9-635d-4683-cd45-682d4f9ae96d"
      },
      "outputs": [
        {
          "data": {
            "text/plain": [
              "tensor(47.5000)"
            ]
          },
          "execution_count": 49,
          "metadata": {},
          "output_type": "execute_result"
        }
      ],
      "source": [
        "torch.mean(x.type(torch.float32))"
      ]
    },
    {
      "cell_type": "code",
      "execution_count": 50,
      "metadata": {
        "colab": {
          "base_uri": "https://localhost:8080/"
        },
        "id": "Ctvb0KRB7j2K",
        "outputId": "b0b26ba2-2c4d-43b3-fa6e-8620ef2e10ba"
      },
      "outputs": [
        {
          "data": {
            "text/plain": [
              "tensor(950)"
            ]
          },
          "execution_count": 50,
          "metadata": {},
          "output_type": "execute_result"
        }
      ],
      "source": [
        "#sum\n",
        "torch.sum(x)"
      ]
    },
    {
      "cell_type": "markdown",
      "metadata": {
        "id": "NC-WpPZL7nCG"
      },
      "source": [
        "###Positional min and max"
      ]
    },
    {
      "cell_type": "code",
      "execution_count": 51,
      "metadata": {
        "colab": {
          "base_uri": "https://localhost:8080/"
        },
        "id": "pITK4V0S7t4N",
        "outputId": "87dce20a-59d4-4abd-d4c8-4c2c15f02db5"
      },
      "outputs": [
        {
          "data": {
            "text/plain": [
              "tensor(0)"
            ]
          },
          "execution_count": 51,
          "metadata": {},
          "output_type": "execute_result"
        }
      ],
      "source": [
        "#positional minimum\n",
        "x.argmin()"
      ]
    },
    {
      "cell_type": "code",
      "execution_count": 52,
      "metadata": {
        "colab": {
          "base_uri": "https://localhost:8080/"
        },
        "id": "UaRaS4Zj7u_w",
        "outputId": "48cb76f9-feaa-42c7-ff58-cc36c839ce15"
      },
      "outputs": [
        {
          "data": {
            "text/plain": [
              "tensor(19)"
            ]
          },
          "execution_count": 52,
          "metadata": {},
          "output_type": "execute_result"
        }
      ],
      "source": [
        "#positional maximum\n",
        "x.argmax()"
      ]
    },
    {
      "cell_type": "code",
      "execution_count": 53,
      "metadata": {
        "colab": {
          "base_uri": "https://localhost:8080/"
        },
        "id": "uzfr67UO7wM-",
        "outputId": "c0f4177f-f544-415e-ab2a-fa5273ce606c"
      },
      "outputs": [
        {
          "data": {
            "text/plain": [
              "(tensor(0), tensor(95))"
            ]
          },
          "execution_count": 53,
          "metadata": {},
          "output_type": "execute_result"
        }
      ],
      "source": [
        "x[0],x[19]"
      ]
    },
    {
      "cell_type": "markdown",
      "metadata": {
        "id": "0OllTIzF7z3K"
      },
      "source": [
        "###Reshaping,stacking,squeezing and unsqueezing tensors\n",
        "\n",
        "* Reshaping- reshaping the input tensor to a different tensor\n",
        "* View     - return a view of an input tensor of certain shape but keep memory as the original tensor\n",
        "* Stacking - combine multiple tensors on top of each other or side by side\n",
        "* Squeeze  - remove dimensions from tensor\n",
        "* Unsqueeze- add dimension to a tensor\n",
        "* Permute  - return a view of the input with the dimensions permuted in a certain way"
      ]
    },
    {
      "cell_type": "code",
      "execution_count": 54,
      "metadata": {
        "colab": {
          "base_uri": "https://localhost:8080/"
        },
        "id": "6LzYXQse9DKe",
        "outputId": "2402b2e2-5000-4839-d8c1-0137520497e1"
      },
      "outputs": [
        {
          "data": {
            "text/plain": [
              "tensor([ 1.,  6., 11., 16., 21., 26., 31., 36., 41., 46.])"
            ]
          },
          "execution_count": 54,
          "metadata": {},
          "output_type": "execute_result"
        }
      ],
      "source": [
        "x=torch.arange(1.,50.,5)\n",
        "x"
      ]
    },
    {
      "cell_type": "code",
      "execution_count": 55,
      "metadata": {
        "colab": {
          "base_uri": "https://localhost:8080/"
        },
        "id": "Mh8oIqqs9PsY",
        "outputId": "8b4779ab-a78f-4d46-8ad4-9eb319efed6c"
      },
      "outputs": [
        {
          "data": {
            "text/plain": [
              "torch.Size([10])"
            ]
          },
          "execution_count": 55,
          "metadata": {},
          "output_type": "execute_result"
        }
      ],
      "source": [
        "x.shape"
      ]
    },
    {
      "cell_type": "code",
      "execution_count": 56,
      "metadata": {
        "colab": {
          "base_uri": "https://localhost:8080/"
        },
        "id": "0QxqZ7YY9hdv",
        "outputId": "97c988fc-a27e-416f-90bb-d19bb530e9a9"
      },
      "outputs": [
        {
          "data": {
            "text/plain": [
              "tensor([[ 1.,  6.],\n",
              "        [11., 16.],\n",
              "        [21., 26.],\n",
              "        [31., 36.],\n",
              "        [41., 46.]])"
            ]
          },
          "execution_count": 56,
          "metadata": {},
          "output_type": "execute_result"
        }
      ],
      "source": [
        "#reshaping\n",
        "x_reshaped=x.reshape(5,2) #reshape has to be compatible with original shape\n",
        "x_reshaped"
      ]
    },
    {
      "cell_type": "code",
      "execution_count": 57,
      "metadata": {
        "colab": {
          "base_uri": "https://localhost:8080/"
        },
        "id": "nTDIW4MX9pwP",
        "outputId": "bf91ef87-3c08-4885-82c3-91bec49257e6"
      },
      "outputs": [
        {
          "data": {
            "text/plain": [
              "(tensor([[ 1.],\n",
              "         [ 6.],\n",
              "         [11.],\n",
              "         [16.],\n",
              "         [21.],\n",
              "         [26.],\n",
              "         [31.],\n",
              "         [36.],\n",
              "         [41.],\n",
              "         [46.]]),\n",
              " torch.Size([10, 1]))"
            ]
          },
          "execution_count": 57,
          "metadata": {},
          "output_type": "execute_result"
        }
      ],
      "source": [
        "#change the view\n",
        "z=x.view(10,1)\n",
        "z,z.shape"
      ]
    },
    {
      "cell_type": "code",
      "execution_count": 58,
      "metadata": {
        "colab": {
          "base_uri": "https://localhost:8080/"
        },
        "id": "9-IP0QnD9xwz",
        "outputId": "b1102610-8036-48e1-c5d5-b10d339f71e0"
      },
      "outputs": [
        {
          "data": {
            "text/plain": [
              "(tensor([[ 1.],\n",
              "         [ 6.],\n",
              "         [11.],\n",
              "         [16.],\n",
              "         [21.],\n",
              "         [26.],\n",
              "         [31.],\n",
              "         [52.],\n",
              "         [41.],\n",
              "         [46.]]),\n",
              " tensor([ 1.,  6., 11., 16., 21., 26., 31., 52., 41., 46.]))"
            ]
          },
          "execution_count": 58,
          "metadata": {},
          "output_type": "execute_result"
        }
      ],
      "source": [
        "#changing z changes x because a view share the original tensor's memory\n",
        "#like shallow copy ig\n",
        "z[7,:]=52\n",
        "z,x"
      ]
    },
    {
      "cell_type": "code",
      "execution_count": 59,
      "metadata": {
        "colab": {
          "base_uri": "https://localhost:8080/"
        },
        "id": "IkLGhtc7-Tw9",
        "outputId": "ec3e8d69-4f3d-4b63-d1cd-6af542e5814c"
      },
      "outputs": [
        {
          "data": {
            "text/plain": [
              "tensor([[ 1.,  6., 11., 16., 21., 26., 31., 52., 41., 46.],\n",
              "        [ 1.,  6., 11., 16., 21., 26., 31., 52., 41., 46.]])"
            ]
          },
          "execution_count": 59,
          "metadata": {},
          "output_type": "execute_result"
        }
      ],
      "source": [
        "#stacking\n",
        "x_stacked=torch.stack([x,x],dim=0)\n",
        "x_stacked"
      ]
    },
    {
      "cell_type": "code",
      "execution_count": 60,
      "metadata": {
        "colab": {
          "base_uri": "https://localhost:8080/"
        },
        "id": "urvMaLXo-gxE",
        "outputId": "ac39f00d-2126-476f-c3e0-88b2ad19da14"
      },
      "outputs": [
        {
          "data": {
            "text/plain": [
              "tensor([[ 1.,  1.],\n",
              "        [ 6.,  6.],\n",
              "        [11., 11.],\n",
              "        [16., 16.],\n",
              "        [21., 21.],\n",
              "        [26., 26.],\n",
              "        [31., 31.],\n",
              "        [52., 52.],\n",
              "        [41., 41.],\n",
              "        [46., 46.]])"
            ]
          },
          "execution_count": 60,
          "metadata": {},
          "output_type": "execute_result"
        }
      ],
      "source": [
        "x_stacked=torch.stack([x,x],dim=1)\n",
        "x_stacked"
      ]
    },
    {
      "cell_type": "code",
      "execution_count": 61,
      "metadata": {
        "id": "3TfyXqeC-mxc"
      },
      "outputs": [],
      "source": [
        "#squeezing\n",
        "x=torch.arange(0.,10.)\n",
        "x_reshaped=x.reshape(1,10)\n",
        "\n",
        "x_squeezed=torch.squeeze(x_reshaped,dim=0)"
      ]
    },
    {
      "cell_type": "code",
      "execution_count": 62,
      "metadata": {
        "colab": {
          "base_uri": "https://localhost:8080/"
        },
        "id": "cEt2Th8a-7t3",
        "outputId": "d074e200-4986-4088-9fe2-d051404712a2"
      },
      "outputs": [
        {
          "data": {
            "text/plain": [
              "(torch.Size([1, 10]), torch.Size([10]))"
            ]
          },
          "execution_count": 62,
          "metadata": {},
          "output_type": "execute_result"
        }
      ],
      "source": [
        "x_reshaped.shape,x_squeezed.shape"
      ]
    },
    {
      "cell_type": "code",
      "execution_count": 63,
      "metadata": {
        "colab": {
          "base_uri": "https://localhost:8080/"
        },
        "id": "lO1x9F8__TEL",
        "outputId": "185d6128-56b2-4ba3-b2d7-ae0d2baca5ba"
      },
      "outputs": [
        {
          "data": {
            "text/plain": [
              "tensor([[0.],\n",
              "        [1.],\n",
              "        [2.],\n",
              "        [3.],\n",
              "        [4.],\n",
              "        [5.],\n",
              "        [6.],\n",
              "        [7.],\n",
              "        [8.],\n",
              "        [9.]])"
            ]
          },
          "execution_count": 63,
          "metadata": {},
          "output_type": "execute_result"
        }
      ],
      "source": [
        "#unsqueeze\n",
        "x_unsqueezed=x_squeezed.unsqueeze(dim=1)\n",
        "x_unsqueezed"
      ]
    },
    {
      "cell_type": "code",
      "execution_count": 64,
      "metadata": {
        "colab": {
          "base_uri": "https://localhost:8080/"
        },
        "id": "EwXI24RK_2r9",
        "outputId": "69863b64-37a8-4f23-9e8b-43075fd11b32"
      },
      "outputs": [
        {
          "data": {
            "text/plain": [
              "tensor([[[1., 1., 1., 1., 1., 1., 1.],\n",
              "         [1., 1., 1., 1., 1., 1., 1.]],\n",
              "\n",
              "        [[1., 1., 1., 1., 1., 1., 1.],\n",
              "         [1., 1., 1., 1., 1., 1., 1.]],\n",
              "\n",
              "        [[1., 1., 1., 1., 1., 1., 1.],\n",
              "         [1., 1., 1., 1., 1., 1., 1.]],\n",
              "\n",
              "        [[1., 1., 1., 1., 1., 1., 1.],\n",
              "         [1., 1., 1., 1., 1., 1., 1.]]])"
            ]
          },
          "execution_count": 64,
          "metadata": {},
          "output_type": "execute_result"
        }
      ],
      "source": [
        "#permuting-returns a view with dimensions rearranged\n",
        "x=torch.ones(size=(4,2,7))\n",
        "x\n"
      ]
    },
    {
      "cell_type": "code",
      "execution_count": 65,
      "metadata": {
        "id": "I1241xofALcB"
      },
      "outputs": [],
      "source": [
        "x_permuted=x.permute(2,0,1) #shifts axis 0->2, 1->0, 2->1\n"
      ]
    },
    {
      "cell_type": "code",
      "execution_count": 66,
      "metadata": {
        "colab": {
          "base_uri": "https://localhost:8080/"
        },
        "id": "i11TIjp3AfOF",
        "outputId": "048c8ff1-dddf-43be-f014-43d96bcbe8a3"
      },
      "outputs": [
        {
          "data": {
            "text/plain": [
              "(torch.Size([7, 4, 2]), torch.Size([4, 2, 7]))"
            ]
          },
          "execution_count": 66,
          "metadata": {},
          "output_type": "execute_result"
        }
      ],
      "source": [
        "x_permuted.shape,x.shape"
      ]
    },
    {
      "cell_type": "markdown",
      "metadata": {
        "id": "iL-hihbEAiZI"
      },
      "source": [
        "###Indexing in PyTorch"
      ]
    },
    {
      "cell_type": "code",
      "execution_count": 67,
      "metadata": {
        "colab": {
          "base_uri": "https://localhost:8080/"
        },
        "id": "gFyLjtkkyVD-",
        "outputId": "d46fcf50-957c-4b50-f246-3bf3e2baaa17"
      },
      "outputs": [
        {
          "data": {
            "text/plain": [
              "tensor([[[1., 2., 3.],\n",
              "         [4., 5., 6.],\n",
              "         [7., 8., 9.]]])"
            ]
          },
          "execution_count": 67,
          "metadata": {},
          "output_type": "execute_result"
        }
      ],
      "source": [
        "x=torch.arange(1.,10.).reshape(1,3,3)\n",
        "x"
      ]
    },
    {
      "cell_type": "code",
      "execution_count": 68,
      "metadata": {
        "colab": {
          "base_uri": "https://localhost:8080/"
        },
        "id": "LGCgf1DMyZWg",
        "outputId": "8c4865eb-6f2e-4879-ce65-46c9bc4aa08d"
      },
      "outputs": [
        {
          "data": {
            "text/plain": [
              "tensor([[1., 2., 3.],\n",
              "        [4., 5., 6.],\n",
              "        [7., 8., 9.]])"
            ]
          },
          "execution_count": 68,
          "metadata": {},
          "output_type": "execute_result"
        }
      ],
      "source": [
        "#indexing on the tensor\n",
        "x[0]"
      ]
    },
    {
      "cell_type": "code",
      "execution_count": 69,
      "metadata": {
        "colab": {
          "base_uri": "https://localhost:8080/"
        },
        "id": "mmTGedMsycio",
        "outputId": "06cea8e9-e453-48ae-cb61-d6c5ee04998a"
      },
      "outputs": [
        {
          "data": {
            "text/plain": [
              "(tensor([1., 2., 3.]), tensor([1., 2., 3.]))"
            ]
          },
          "execution_count": 69,
          "metadata": {},
          "output_type": "execute_result"
        }
      ],
      "source": [
        "x[0][0],x[0,0]"
      ]
    },
    {
      "cell_type": "code",
      "execution_count": 70,
      "metadata": {
        "colab": {
          "base_uri": "https://localhost:8080/"
        },
        "id": "jI-yD_QDye7j",
        "outputId": "dfc0937d-d8e9-4248-8bea-0ba17b621282"
      },
      "outputs": [
        {
          "data": {
            "text/plain": [
              "tensor(5.)"
            ]
          },
          "execution_count": 70,
          "metadata": {},
          "output_type": "execute_result"
        }
      ],
      "source": [
        "x[0,1,1]"
      ]
    },
    {
      "cell_type": "code",
      "execution_count": 71,
      "metadata": {
        "colab": {
          "base_uri": "https://localhost:8080/"
        },
        "id": "jsvT444AyjM-",
        "outputId": "c05c4794-d7d7-4b85-edea-08427ce28f59"
      },
      "outputs": [
        {
          "data": {
            "text/plain": [
              "tensor(8.)"
            ]
          },
          "execution_count": 71,
          "metadata": {},
          "output_type": "execute_result"
        }
      ],
      "source": [
        "x[0,2,1]"
      ]
    },
    {
      "cell_type": "code",
      "execution_count": 72,
      "metadata": {
        "colab": {
          "base_uri": "https://localhost:8080/"
        },
        "id": "zj14L92Rynr6",
        "outputId": "9a883636-533e-49f4-f3c9-8068b6ae8179"
      },
      "outputs": [
        {
          "data": {
            "text/plain": [
              "tensor([[7., 8., 9.]])"
            ]
          },
          "execution_count": 72,
          "metadata": {},
          "output_type": "execute_result"
        }
      ],
      "source": [
        "#using : to select all values of a particular dimension\n",
        "x[:,2]"
      ]
    },
    {
      "cell_type": "code",
      "execution_count": 73,
      "metadata": {
        "colab": {
          "base_uri": "https://localhost:8080/"
        },
        "id": "vvbehaAGy-Of",
        "outputId": "6c1a33df-acbc-4273-8c83-53a725d05ee6"
      },
      "outputs": [
        {
          "data": {
            "text/plain": [
              "tensor([[7., 8., 9.]])"
            ]
          },
          "execution_count": 73,
          "metadata": {},
          "output_type": "execute_result"
        }
      ],
      "source": [
        "x[:,2,:]"
      ]
    },
    {
      "cell_type": "code",
      "execution_count": 74,
      "metadata": {
        "colab": {
          "base_uri": "https://localhost:8080/"
        },
        "id": "G5fAh6zVzBH2",
        "outputId": "ad2f21ec-90e5-4c7d-beb8-286a882530b1"
      },
      "outputs": [
        {
          "data": {
            "text/plain": [
              "tensor([[1., 2., 3.],\n",
              "        [4., 5., 6.],\n",
              "        [7., 8., 9.]])"
            ]
          },
          "execution_count": 74,
          "metadata": {},
          "output_type": "execute_result"
        }
      ],
      "source": [
        "x[0,:,:]"
      ]
    },
    {
      "cell_type": "markdown",
      "metadata": {
        "id": "8bAVebuAzETG"
      },
      "source": [
        "##PyTorch and NumPy\n",
        "\n",
        "PyTorch has functionality to interact with NumPy\n",
        "\n",
        "* Data in NumPy to PyTorch tensor `torch.from_numpy(ndarray)`\n",
        "* Data in PyTorch tensor to NumPy `torch.Tensor.numpy(ndaray)`"
      ]
    },
    {
      "cell_type": "code",
      "execution_count": 75,
      "metadata": {
        "colab": {
          "base_uri": "https://localhost:8080/"
        },
        "id": "wuRBTueezx_w",
        "outputId": "52178a1f-668b-4505-d4d6-2c6c9c01e16c"
      },
      "outputs": [
        {
          "data": {
            "text/plain": [
              "(tensor([1., 2., 3., 4., 5., 6., 7.], dtype=torch.float64),\n",
              " array([1., 2., 3., 4., 5., 6., 7.]))"
            ]
          },
          "execution_count": 75,
          "metadata": {},
          "output_type": "execute_result"
        }
      ],
      "source": [
        "import torch\n",
        "import numpy as np\n",
        "\n",
        "array=np.arange(1.,8.)\n",
        "tensor=torch.from_numpy(array)\n",
        "tensor,array"
      ]
    },
    {
      "cell_type": "markdown",
      "metadata": {
        "id": "eBotkINX0BJ8"
      },
      "source": [
        "When converting from numpy to pytorch it reflects the datatype of numpy which is float64 whereas as the default datatype of torch is float32"
      ]
    },
    {
      "cell_type": "code",
      "execution_count": 76,
      "metadata": {
        "id": "DFQS_wNRz9YD"
      },
      "outputs": [],
      "source": [
        "tensor=torch.ones(size=(3,3))\n",
        "numpy_tensor=tensor.numpy()"
      ]
    },
    {
      "cell_type": "code",
      "execution_count": 77,
      "metadata": {
        "colab": {
          "base_uri": "https://localhost:8080/"
        },
        "id": "aq9jGjCo0YLG",
        "outputId": "011af167-c4be-426c-8e29-6847b40ff483"
      },
      "outputs": [
        {
          "data": {
            "text/plain": [
              "(tensor([[1., 1., 1.],\n",
              "         [1., 1., 1.],\n",
              "         [1., 1., 1.]]),\n",
              " array([[1., 1., 1.],\n",
              "        [1., 1., 1.],\n",
              "        [1., 1., 1.]], dtype=float32))"
            ]
          },
          "execution_count": 77,
          "metadata": {},
          "output_type": "execute_result"
        }
      ],
      "source": [
        "tensor,numpy_tensor"
      ]
    },
    {
      "cell_type": "markdown",
      "metadata": {
        "id": "uGQl-WCR0Zyv"
      },
      "source": [
        "##Reproducability\n",
        "To reduce randomness we use **random seed**."
      ]
    },
    {
      "cell_type": "code",
      "execution_count": 78,
      "metadata": {
        "colab": {
          "base_uri": "https://localhost:8080/"
        },
        "id": "Ri12DSY_06bj",
        "outputId": "ced21b6a-acd0-4034-b1b6-d8edfb7dd813"
      },
      "outputs": [
        {
          "data": {
            "text/plain": [
              "(tensor([[0.9546, 0.6841, 0.4650, 0.6590, 0.7438],\n",
              "         [0.4347, 0.2063, 0.8758, 0.2247, 0.8037],\n",
              "         [0.9968, 0.1423, 0.9234, 0.4537, 0.2036],\n",
              "         [0.3500, 0.0137, 0.6566, 0.7808, 0.6411]]),\n",
              " tensor([[0.8977, 0.3417, 0.3011, 0.7962, 0.6120],\n",
              "         [0.0612, 0.0978, 0.2275, 0.7671, 0.0072],\n",
              "         [0.4740, 0.0736, 0.0630, 0.6169, 0.9415],\n",
              "         [0.1047, 0.2541, 0.1338, 0.0553, 0.3329]]))"
            ]
          },
          "execution_count": 78,
          "metadata": {},
          "output_type": "execute_result"
        }
      ],
      "source": [
        "#creating 2 random tensors\n",
        "random_tensor_A=torch.rand(4,5)\n",
        "random_tensor_B=torch.rand(4,5)\n",
        "random_tensor_A,random_tensor_B"
      ]
    },
    {
      "cell_type": "code",
      "execution_count": 79,
      "metadata": {
        "colab": {
          "base_uri": "https://localhost:8080/"
        },
        "id": "pwm0TBZr1XFJ",
        "outputId": "83acad37-a3d2-41bd-efcf-7e5f0502763c"
      },
      "outputs": [
        {
          "name": "stdout",
          "output_type": "stream",
          "text": [
            "tensor([[False, False, False, False, False],\n",
            "        [False, False, False, False, False],\n",
            "        [False, False, False, False, False],\n",
            "        [False, False, False, False, False]])\n"
          ]
        }
      ],
      "source": [
        "print(random_tensor_A==random_tensor_B)"
      ]
    },
    {
      "cell_type": "code",
      "execution_count": 80,
      "metadata": {
        "colab": {
          "base_uri": "https://localhost:8080/"
        },
        "id": "ke_MXDpc1d-S",
        "outputId": "ad9faa40-d2c6-4882-f4be-b9da568cce04"
      },
      "outputs": [
        {
          "name": "stdout",
          "output_type": "stream",
          "text": [
            "tensor([[True, True, True, True, True],\n",
            "        [True, True, True, True, True],\n",
            "        [True, True, True, True, True],\n",
            "        [True, True, True, True, True]])\n"
          ]
        }
      ],
      "source": [
        "#setting a random seed\n",
        "RANDOM_SEED=42\n",
        "torch.manual_seed(RANDOM_SEED)\n",
        "\n",
        "random_tensor_C=torch.rand(4,5)\n",
        "\n",
        "torch.manual_seed(42)\n",
        "random_tensor_D=torch.rand(4,5)\n",
        "\n",
        "print(random_tensor_C==random_tensor_D)"
      ]
    },
    {
      "cell_type": "markdown",
      "metadata": {
        "id": "cZuRZt7813Lp"
      },
      "source": [
        "Use `torch.manal_seed()` every time you use a torch function because it works for only one instance of torch"
      ]
    },
    {
      "cell_type": "markdown",
      "metadata": {
        "id": "BdFM9NzH11VT"
      },
      "source": [
        "##Running tensors and PyTorch objects on the GPU's\n"
      ]
    },
    {
      "cell_type": "markdown",
      "metadata": {
        "id": "dCwVMSOP2JqM"
      },
      "source": [
        "###Getting a GPU\n",
        "\n",
        "1. Use the google colab gpu's\n",
        "2. Use your own GPU\n",
        "3. Use cloud computing- GCP,AWS and AZURE\n",
        "\n",
        "For 2,3 PyTorch+CUDA will need some setting up"
      ]
    },
    {
      "cell_type": "code",
      "execution_count": 81,
      "metadata": {
        "colab": {
          "base_uri": "https://localhost:8080/"
        },
        "id": "ejPdSAJG3BEN",
        "outputId": "236f9d40-5070-4256-fd50-8de81fbe87e6"
      },
      "outputs": [
        {
          "data": {
            "text/plain": [
              "False"
            ]
          },
          "execution_count": 81,
          "metadata": {},
          "output_type": "execute_result"
        }
      ],
      "source": [
        "##Checking for GPU\n",
        "torch.cuda.is_available()"
      ]
    },
    {
      "cell_type": "code",
      "execution_count": 82,
      "metadata": {
        "colab": {
          "base_uri": "https://localhost:8080/",
          "height": 35
        },
        "id": "-OEJqTOr3W2c",
        "outputId": "6ea5b261-1ac5-4848-bfec-fa6a22bca012"
      },
      "outputs": [
        {
          "data": {
            "text/plain": [
              "'cpu'"
            ]
          },
          "execution_count": 82,
          "metadata": {},
          "output_type": "execute_result"
        }
      ],
      "source": [
        "#Setup device agnostic code\n",
        "device='cuda' if torch.cuda.is_available() else 'cpu' #if gpu is available set device to cuda or else make it cpu\n",
        "device"
      ]
    },
    {
      "cell_type": "code",
      "execution_count": 83,
      "metadata": {
        "colab": {
          "base_uri": "https://localhost:8080/"
        },
        "id": "hBjUOuED3n93",
        "outputId": "4aa375d5-c1d2-4f01-ab3a-965a2ced6e87"
      },
      "outputs": [
        {
          "data": {
            "text/plain": [
              "0"
            ]
          },
          "execution_count": 83,
          "metadata": {},
          "output_type": "execute_result"
        }
      ],
      "source": [
        "torch.cuda.device_count() #counting the number of gpu's"
      ]
    },
    {
      "cell_type": "markdown",
      "metadata": {
        "id": "f_MqSafe3sXK"
      },
      "source": [
        "###Putting Tensors to GPU's"
      ]
    },
    {
      "cell_type": "code",
      "execution_count": 84,
      "metadata": {
        "colab": {
          "base_uri": "https://localhost:8080/"
        },
        "id": "7WgHMlvg39mj",
        "outputId": "95b90f93-1143-4241-b63a-23d6130c0033"
      },
      "outputs": [
        {
          "name": "stdout",
          "output_type": "stream",
          "text": [
            "tensor([[0.2696, 0.4414, 0.2969, 0.8317, 0.1053],\n",
            "        [0.2695, 0.3588, 0.1994, 0.5472, 0.0062],\n",
            "        [0.9516, 0.0753, 0.8860, 0.5832, 0.3376],\n",
            "        [0.8090, 0.5779, 0.9040, 0.5547, 0.3423]]) cpu\n"
          ]
        }
      ],
      "source": [
        "#creating a tensor\n",
        "tensor=torch.rand([4,5],device='cpu')\n",
        "print(tensor,tensor.device)\n",
        "\n",
        "\n"
      ]
    },
    {
      "cell_type": "code",
      "execution_count": 85,
      "metadata": {
        "colab": {
          "base_uri": "https://localhost:8080/"
        },
        "id": "LRvhN8f44JDB",
        "outputId": "41b35c38-d29c-4140-90e1-792d687a2814"
      },
      "outputs": [
        {
          "data": {
            "text/plain": [
              "tensor([[0.2696, 0.4414, 0.2969, 0.8317, 0.1053],\n",
              "        [0.2695, 0.3588, 0.1994, 0.5472, 0.0062],\n",
              "        [0.9516, 0.0753, 0.8860, 0.5832, 0.3376],\n",
              "        [0.8090, 0.5779, 0.9040, 0.5547, 0.3423]])"
            ]
          },
          "execution_count": 85,
          "metadata": {},
          "output_type": "execute_result"
        }
      ],
      "source": [
        "#move tensor to gpu\n",
        "tensor_on_gpu=tensor.to(device)\n",
        "tensor_on_gpu"
      ]
    },
    {
      "cell_type": "code",
      "execution_count": 86,
      "metadata": {
        "colab": {
          "base_uri": "https://localhost:8080/",
          "height": 159
        },
        "id": "RCKXoaJq4QSj",
        "outputId": "aa03391c-a665-4dda-e487-5bd34a33aec5"
      },
      "outputs": [
        {
          "data": {
            "text/plain": [
              "array([[0.26963168, 0.44136357, 0.29692084, 0.8316855 , 0.10531491],\n",
              "       [0.26949483, 0.35881263, 0.19936377, 0.54719156, 0.00616044],\n",
              "       [0.95155454, 0.07526588, 0.8860137 , 0.5832096 , 0.33764774],\n",
              "       [0.808975  , 0.5779254 , 0.9039817 , 0.55465984, 0.3423134 ]],\n",
              "      dtype=float32)"
            ]
          },
          "execution_count": 86,
          "metadata": {},
          "output_type": "execute_result"
        }
      ],
      "source": [
        "#if tensor is on gpu we cant convert it to numpy\n",
        "tensor_on_gpu.numpy()"
      ]
    },
    {
      "cell_type": "code",
      "execution_count": 87,
      "metadata": {
        "colab": {
          "base_uri": "https://localhost:8080/"
        },
        "id": "39Cfz94V4g7a",
        "outputId": "c2e65ad4-29cb-4348-cc28-73b8abbcfdd2"
      },
      "outputs": [
        {
          "data": {
            "text/plain": [
              "array([[0.26963168, 0.44136357, 0.29692084, 0.8316855 , 0.10531491],\n",
              "       [0.26949483, 0.35881263, 0.19936377, 0.54719156, 0.00616044],\n",
              "       [0.95155454, 0.07526588, 0.8860137 , 0.5832096 , 0.33764774],\n",
              "       [0.808975  , 0.5779254 , 0.9039817 , 0.55465984, 0.3423134 ]],\n",
              "      dtype=float32)"
            ]
          },
          "execution_count": 87,
          "metadata": {},
          "output_type": "execute_result"
        }
      ],
      "source": [
        "#to fix the above thing\n",
        "tensor_on_cpu=tensor_on_gpu.cpu().numpy()\n",
        "tensor_on_cpu"
      ]
    },
    {
      "cell_type": "code",
      "execution_count": null,
      "metadata": {
        "id": "jGeewfsL4rlB"
      },
      "outputs": [],
      "source": []
    }
  ],
  "metadata": {
    "accelerator": "GPU",
    "colab": {
      "provenance": [],
      "toc_visible": true
    },
    "gpuClass": "standard",
    "kernelspec": {
      "display_name": "Python 3",
      "name": "python3"
    },
    "language_info": {
      "codemirror_mode": {
        "name": "ipython",
        "version": 3
      },
      "file_extension": ".py",
      "mimetype": "text/x-python",
      "name": "python",
      "nbconvert_exporter": "python",
      "pygments_lexer": "ipython3",
      "version": "3.12.6"
    }
  },
  "nbformat": 4,
  "nbformat_minor": 0
}
