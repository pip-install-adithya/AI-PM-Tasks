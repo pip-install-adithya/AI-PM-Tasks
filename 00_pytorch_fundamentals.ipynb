{
  "nbformat": 4,
  "nbformat_minor": 0,
  "metadata": {
    "colab": {
      "provenance": [],
      "toc_visible": true
    },
    "kernelspec": {
      "name": "python3",
      "display_name": "Python 3"
    },
    "language_info": {
      "name": "python"
    },
    "gpuClass": "standard",
    "accelerator": "GPU"
  },
  "cells": [
    {
      "cell_type": "markdown",
      "source": [
        "#PyTorch Fundamentals"
      ],
      "metadata": {
        "id": "Lh6BrgJUm2C2"
      }
    },
    {
      "cell_type": "code",
      "source": [
        "import torch\n",
        "import pandas as pd\n",
        "import numpy as np\n",
        "import matplotlib.pyplot as plt\n",
        "print(torch.__version__)"
      ],
      "metadata": {
        "colab": {
          "base_uri": "https://localhost:8080/"
        },
        "id": "igW9J8VYnRsp",
        "outputId": "fe18cd51-42b3-421d-e528-3b517bf06423"
      },
      "execution_count": 1,
      "outputs": [
        {
          "output_type": "stream",
          "name": "stdout",
          "text": [
            "2.6.0+cu124\n"
          ]
        }
      ]
    },
    {
      "cell_type": "markdown",
      "source": [
        "##Introduction to tensors"
      ],
      "metadata": {
        "id": "I2PIzh9VnoZP"
      }
    },
    {
      "cell_type": "markdown",
      "source": [
        "###Creating tensors"
      ],
      "metadata": {
        "id": "oOhRjkLPn6XO"
      }
    },
    {
      "cell_type": "code",
      "source": [
        "#scalars\n",
        "scalar=torch.tensor(7)\n",
        "scalar"
      ],
      "metadata": {
        "colab": {
          "base_uri": "https://localhost:8080/"
        },
        "id": "IAzV7NkWn-SE",
        "outputId": "9d63c8db-520c-463f-edf1-9eb291017d4d"
      },
      "execution_count": 2,
      "outputs": [
        {
          "output_type": "execute_result",
          "data": {
            "text/plain": [
              "tensor(7)"
            ]
          },
          "metadata": {},
          "execution_count": 2
        }
      ]
    },
    {
      "cell_type": "code",
      "source": [
        "scalar.ndim"
      ],
      "metadata": {
        "colab": {
          "base_uri": "https://localhost:8080/"
        },
        "id": "cm-Z9Y1-oBRG",
        "outputId": "f5ad9c6c-bdfc-4720-9ecb-4a535e2d29b0"
      },
      "execution_count": 3,
      "outputs": [
        {
          "output_type": "execute_result",
          "data": {
            "text/plain": [
              "0"
            ]
          },
          "metadata": {},
          "execution_count": 3
        }
      ]
    },
    {
      "cell_type": "code",
      "source": [
        "#vector\n",
        "vector=torch.tensor([7,7])\n",
        "vector"
      ],
      "metadata": {
        "colab": {
          "base_uri": "https://localhost:8080/"
        },
        "id": "Z2fuYVAqoISv",
        "outputId": "da2fdbbb-95b2-42af-b2c7-a8f06ce27027"
      },
      "execution_count": 4,
      "outputs": [
        {
          "output_type": "execute_result",
          "data": {
            "text/plain": [
              "tensor([7, 7])"
            ]
          },
          "metadata": {},
          "execution_count": 4
        }
      ]
    },
    {
      "cell_type": "code",
      "source": [
        "vector.ndim"
      ],
      "metadata": {
        "colab": {
          "base_uri": "https://localhost:8080/"
        },
        "id": "3V98-9IzoeIT",
        "outputId": "f04fd25d-261a-4fd8-939f-28d4daffb47e"
      },
      "execution_count": 5,
      "outputs": [
        {
          "output_type": "execute_result",
          "data": {
            "text/plain": [
              "1"
            ]
          },
          "metadata": {},
          "execution_count": 5
        }
      ]
    },
    {
      "cell_type": "code",
      "source": [
        "vector.shape"
      ],
      "metadata": {
        "colab": {
          "base_uri": "https://localhost:8080/"
        },
        "id": "jjv_qzBSogSD",
        "outputId": "ca38e14d-32a8-45a3-ac71-0055c05ca767"
      },
      "execution_count": 6,
      "outputs": [
        {
          "output_type": "execute_result",
          "data": {
            "text/plain": [
              "torch.Size([2])"
            ]
          },
          "metadata": {},
          "execution_count": 6
        }
      ]
    },
    {
      "cell_type": "code",
      "source": [
        "#matrix\n",
        "matrix=torch.tensor([[1,2],\n",
        "                    [5,6]])\n",
        "matrix"
      ],
      "metadata": {
        "colab": {
          "base_uri": "https://localhost:8080/"
        },
        "id": "yMp1CIurohJ1",
        "outputId": "61bbc470-23f7-465a-d3b8-d853a1103e70"
      },
      "execution_count": 7,
      "outputs": [
        {
          "output_type": "execute_result",
          "data": {
            "text/plain": [
              "tensor([[1, 2],\n",
              "        [5, 6]])"
            ]
          },
          "metadata": {},
          "execution_count": 7
        }
      ]
    },
    {
      "cell_type": "code",
      "source": [
        "matrix.ndim"
      ],
      "metadata": {
        "colab": {
          "base_uri": "https://localhost:8080/"
        },
        "id": "DEk-EPCTopxn",
        "outputId": "d0bc2666-20d6-4b13-985a-b600cfb10a82"
      },
      "execution_count": 8,
      "outputs": [
        {
          "output_type": "execute_result",
          "data": {
            "text/plain": [
              "2"
            ]
          },
          "metadata": {},
          "execution_count": 8
        }
      ]
    },
    {
      "cell_type": "code",
      "source": [
        "matrix.shape"
      ],
      "metadata": {
        "colab": {
          "base_uri": "https://localhost:8080/"
        },
        "id": "bBbtjHOfotLY",
        "outputId": "feffb64e-5fab-48a9-ac88-5c66cfec4edf"
      },
      "execution_count": 9,
      "outputs": [
        {
          "output_type": "execute_result",
          "data": {
            "text/plain": [
              "torch.Size([2, 2])"
            ]
          },
          "metadata": {},
          "execution_count": 9
        }
      ]
    },
    {
      "cell_type": "code",
      "source": [
        "#tensor\n",
        "tensor=torch.tensor([[[1,2,3],\n",
        "                      [4,5,6],\n",
        "                      [7,8,9]]])\n",
        "tensor"
      ],
      "metadata": {
        "colab": {
          "base_uri": "https://localhost:8080/"
        },
        "id": "zwPSRdPyouQS",
        "outputId": "1174eb16-42cf-4069-baaa-4663bd6053b6"
      },
      "execution_count": 10,
      "outputs": [
        {
          "output_type": "execute_result",
          "data": {
            "text/plain": [
              "tensor([[[1, 2, 3],\n",
              "         [4, 5, 6],\n",
              "         [7, 8, 9]]])"
            ]
          },
          "metadata": {},
          "execution_count": 10
        }
      ]
    },
    {
      "cell_type": "code",
      "source": [
        "tensor.ndim"
      ],
      "metadata": {
        "colab": {
          "base_uri": "https://localhost:8080/"
        },
        "id": "_tkuSmEAo84w",
        "outputId": "10b66abb-32c9-4c66-8eba-146771e6fded"
      },
      "execution_count": 11,
      "outputs": [
        {
          "output_type": "execute_result",
          "data": {
            "text/plain": [
              "3"
            ]
          },
          "metadata": {},
          "execution_count": 11
        }
      ]
    },
    {
      "cell_type": "code",
      "source": [
        "tensor.shape"
      ],
      "metadata": {
        "colab": {
          "base_uri": "https://localhost:8080/"
        },
        "id": "lCQopcv4o90a",
        "outputId": "ccd7ee24-2f60-4e93-ea81-07ed06820660"
      },
      "execution_count": 12,
      "outputs": [
        {
          "output_type": "execute_result",
          "data": {
            "text/plain": [
              "torch.Size([1, 3, 3])"
            ]
          },
          "metadata": {},
          "execution_count": 12
        }
      ]
    },
    {
      "cell_type": "code",
      "source": [
        "tensor[0]"
      ],
      "metadata": {
        "colab": {
          "base_uri": "https://localhost:8080/"
        },
        "id": "ADpLv-wBo-3G",
        "outputId": "19818123-4c8d-4be3-b52e-c476de7c51f1"
      },
      "execution_count": 13,
      "outputs": [
        {
          "output_type": "execute_result",
          "data": {
            "text/plain": [
              "tensor([[1, 2, 3],\n",
              "        [4, 5, 6],\n",
              "        [7, 8, 9]])"
            ]
          },
          "metadata": {},
          "execution_count": 13
        }
      ]
    },
    {
      "cell_type": "code",
      "source": [
        "tensor[0][2][1]"
      ],
      "metadata": {
        "colab": {
          "base_uri": "https://localhost:8080/"
        },
        "id": "AocHWusepPLH",
        "outputId": "22fe1312-07ac-4657-ed94-94e589da340a"
      },
      "execution_count": 14,
      "outputs": [
        {
          "output_type": "execute_result",
          "data": {
            "text/plain": [
              "tensor(8)"
            ]
          },
          "metadata": {},
          "execution_count": 14
        }
      ]
    },
    {
      "cell_type": "markdown",
      "source": [
        "###Random Tensors"
      ],
      "metadata": {
        "id": "rR9aiNhVpQFr"
      }
    },
    {
      "cell_type": "code",
      "source": [
        "#creating a random tensor\n",
        "random_tensor=torch.rand(3,4)\n",
        "random_tensor"
      ],
      "metadata": {
        "colab": {
          "base_uri": "https://localhost:8080/"
        },
        "id": "x-g7WC-kphlm",
        "outputId": "3ffb6092-0d98-40ae-ef97-fd47e1799abd"
      },
      "execution_count": 15,
      "outputs": [
        {
          "output_type": "execute_result",
          "data": {
            "text/plain": [
              "tensor([[0.1295, 0.1298, 0.0200, 0.4638],\n",
              "        [0.5661, 0.9343, 0.2862, 0.8969],\n",
              "        [0.9325, 0.4054, 0.7958, 0.7209]])"
            ]
          },
          "metadata": {},
          "execution_count": 15
        }
      ]
    },
    {
      "cell_type": "code",
      "source": [
        "random_tensor.ndim"
      ],
      "metadata": {
        "colab": {
          "base_uri": "https://localhost:8080/"
        },
        "id": "3mzydnwZp42R",
        "outputId": "91eeab83-d267-4641-9183-d781752fb36d"
      },
      "execution_count": 16,
      "outputs": [
        {
          "output_type": "execute_result",
          "data": {
            "text/plain": [
              "2"
            ]
          },
          "metadata": {},
          "execution_count": 16
        }
      ]
    },
    {
      "cell_type": "code",
      "source": [
        "random_tensor=torch.rand(1,3,5)\n",
        "random_tensor"
      ],
      "metadata": {
        "colab": {
          "base_uri": "https://localhost:8080/"
        },
        "id": "PfBT9oiGp6bj",
        "outputId": "ee666db2-8f6b-41ab-f194-7e0c355672f9"
      },
      "execution_count": 18,
      "outputs": [
        {
          "output_type": "execute_result",
          "data": {
            "text/plain": [
              "tensor([[[0.0819, 0.1307, 0.1962, 0.6612, 0.8116],\n",
              "         [0.9316, 0.0664, 0.2365, 0.2501, 0.1471],\n",
              "         [0.2639, 0.5669, 0.9407, 0.7946, 0.6692]]])"
            ]
          },
          "metadata": {},
          "execution_count": 18
        }
      ]
    },
    {
      "cell_type": "code",
      "source": [
        "random_tensor.ndim,random_tensor.shape"
      ],
      "metadata": {
        "colab": {
          "base_uri": "https://localhost:8080/"
        },
        "id": "uar1SPFDp-W8",
        "outputId": "e00c2073-26e1-4795-b795-e67483d27889"
      },
      "execution_count": 19,
      "outputs": [
        {
          "output_type": "execute_result",
          "data": {
            "text/plain": [
              "(3, torch.Size([1, 3, 5]))"
            ]
          },
          "metadata": {},
          "execution_count": 19
        }
      ]
    },
    {
      "cell_type": "code",
      "source": [
        "zero=torch.zeros(4,2,9)\n",
        "zero"
      ],
      "metadata": {
        "colab": {
          "base_uri": "https://localhost:8080/"
        },
        "id": "_Vv56K_3qCwU",
        "outputId": "ca18c463-5f37-4ab6-a77d-d1660ee62853"
      },
      "execution_count": 20,
      "outputs": [
        {
          "output_type": "execute_result",
          "data": {
            "text/plain": [
              "tensor([[[0., 0., 0., 0., 0., 0., 0., 0., 0.],\n",
              "         [0., 0., 0., 0., 0., 0., 0., 0., 0.]],\n",
              "\n",
              "        [[0., 0., 0., 0., 0., 0., 0., 0., 0.],\n",
              "         [0., 0., 0., 0., 0., 0., 0., 0., 0.]],\n",
              "\n",
              "        [[0., 0., 0., 0., 0., 0., 0., 0., 0.],\n",
              "         [0., 0., 0., 0., 0., 0., 0., 0., 0.]],\n",
              "\n",
              "        [[0., 0., 0., 0., 0., 0., 0., 0., 0.],\n",
              "         [0., 0., 0., 0., 0., 0., 0., 0., 0.]]])"
            ]
          },
          "metadata": {},
          "execution_count": 20
        }
      ]
    },
    {
      "cell_type": "code",
      "source": [
        "zero.dtype"
      ],
      "metadata": {
        "id": "4t9LxCuqAv-a",
        "outputId": "5b219537-4eb2-44b8-c9a2-ed6cc95cffb9",
        "colab": {
          "base_uri": "https://localhost:8080/"
        }
      },
      "execution_count": 21,
      "outputs": [
        {
          "output_type": "execute_result",
          "data": {
            "text/plain": [
              "torch.float32"
            ]
          },
          "metadata": {},
          "execution_count": 21
        }
      ]
    },
    {
      "cell_type": "code",
      "source": [
        "ones=torch.ones(6,9)\n",
        "ones"
      ],
      "metadata": {
        "colab": {
          "base_uri": "https://localhost:8080/"
        },
        "id": "z5yP64OvqmRW",
        "outputId": "9c606604-079c-4488-88fd-2cbde5f08557"
      },
      "execution_count": 22,
      "outputs": [
        {
          "output_type": "execute_result",
          "data": {
            "text/plain": [
              "tensor([[1., 1., 1., 1., 1., 1., 1., 1., 1.],\n",
              "        [1., 1., 1., 1., 1., 1., 1., 1., 1.],\n",
              "        [1., 1., 1., 1., 1., 1., 1., 1., 1.],\n",
              "        [1., 1., 1., 1., 1., 1., 1., 1., 1.],\n",
              "        [1., 1., 1., 1., 1., 1., 1., 1., 1.],\n",
              "        [1., 1., 1., 1., 1., 1., 1., 1., 1.]])"
            ]
          },
          "metadata": {},
          "execution_count": 22
        }
      ]
    },
    {
      "cell_type": "code",
      "source": [
        "ones.dtype"
      ],
      "metadata": {
        "colab": {
          "base_uri": "https://localhost:8080/"
        },
        "id": "gl5URPqkqqSn",
        "outputId": "dbff2e20-a8b0-4156-8646-9553eb539628"
      },
      "execution_count": 23,
      "outputs": [
        {
          "output_type": "execute_result",
          "data": {
            "text/plain": [
              "torch.float32"
            ]
          },
          "metadata": {},
          "execution_count": 23
        }
      ]
    },
    {
      "cell_type": "code",
      "source": [
        "#creating a tensor with range\n",
        "range_tensor=torch.arange(start=0,end=1000,step=15)\n",
        "range_tensor"
      ],
      "metadata": {
        "colab": {
          "base_uri": "https://localhost:8080/"
        },
        "id": "qxO1tIRgqtEk",
        "outputId": "f42fe4e7-1654-4bb2-9265-b82e9b4d69a3"
      },
      "execution_count": 24,
      "outputs": [
        {
          "output_type": "execute_result",
          "data": {
            "text/plain": [
              "tensor([  0,  15,  30,  45,  60,  75,  90, 105, 120, 135, 150, 165, 180, 195,\n",
              "        210, 225, 240, 255, 270, 285, 300, 315, 330, 345, 360, 375, 390, 405,\n",
              "        420, 435, 450, 465, 480, 495, 510, 525, 540, 555, 570, 585, 600, 615,\n",
              "        630, 645, 660, 675, 690, 705, 720, 735, 750, 765, 780, 795, 810, 825,\n",
              "        840, 855, 870, 885, 900, 915, 930, 945, 960, 975, 990])"
            ]
          },
          "metadata": {},
          "execution_count": 24
        }
      ]
    },
    {
      "cell_type": "code",
      "source": [
        "range_tensor.shape"
      ],
      "metadata": {
        "id": "lsyK_L7phsQP",
        "outputId": "1220d13f-0dbc-4f21-dc6b-388b75d350c3",
        "colab": {
          "base_uri": "https://localhost:8080/"
        }
      },
      "execution_count": 26,
      "outputs": [
        {
          "output_type": "execute_result",
          "data": {
            "text/plain": [
              "torch.Size([67])"
            ]
          },
          "metadata": {},
          "execution_count": 26
        }
      ]
    },
    {
      "cell_type": "code",
      "source": [
        "#to create tensors with similar shape to another tensor\n",
        "zeros_like=torch.zeros_like(input=range_tensor)\n",
        "print(zeros_like)\n",
        "zeros_like.shape"
      ],
      "metadata": {
        "colab": {
          "base_uri": "https://localhost:8080/"
        },
        "id": "45MDTcjMq1Re",
        "outputId": "c9cf203c-940f-44af-f04f-ab83671bde36"
      },
      "execution_count": 29,
      "outputs": [
        {
          "output_type": "stream",
          "name": "stdout",
          "text": [
            "tensor([0, 0, 0, 0, 0, 0, 0, 0, 0, 0, 0, 0, 0, 0, 0, 0, 0, 0, 0, 0, 0, 0, 0, 0,\n",
            "        0, 0, 0, 0, 0, 0, 0, 0, 0, 0, 0, 0, 0, 0, 0, 0, 0, 0, 0, 0, 0, 0, 0, 0,\n",
            "        0, 0, 0, 0, 0, 0, 0, 0, 0, 0, 0, 0, 0, 0, 0, 0, 0, 0, 0])\n"
          ]
        },
        {
          "output_type": "execute_result",
          "data": {
            "text/plain": [
              "torch.Size([67])"
            ]
          },
          "metadata": {},
          "execution_count": 29
        }
      ]
    },
    {
      "cell_type": "markdown",
      "source": [
        "###Tensor Datatypes"
      ],
      "metadata": {
        "id": "q8ykhnTmrrO6"
      }
    },
    {
      "cell_type": "code",
      "source": [
        "float_16_tensor=torch.tensor([[9,8,7],\n",
        "                              [6,7,8]],\n",
        "                             dtype=torch.float16)\n",
        "float_16_tensor"
      ],
      "metadata": {
        "colab": {
          "base_uri": "https://localhost:8080/"
        },
        "id": "__y2qoVBr-u6",
        "outputId": "cde1d779-9406-427b-de16-04bed23a44f3"
      },
      "execution_count": 30,
      "outputs": [
        {
          "output_type": "execute_result",
          "data": {
            "text/plain": [
              "tensor([[9., 8., 7.],\n",
              "        [6., 7., 8.]], dtype=torch.float16)"
            ]
          },
          "metadata": {},
          "execution_count": 30
        }
      ]
    },
    {
      "cell_type": "code",
      "source": [
        "float_16_tensor.dtype"
      ],
      "metadata": {
        "id": "TjZPNGpZh8kh",
        "outputId": "33f503ac-1cb9-4804-cc85-09f07fd42f94",
        "colab": {
          "base_uri": "https://localhost:8080/"
        }
      },
      "execution_count": 31,
      "outputs": [
        {
          "output_type": "execute_result",
          "data": {
            "text/plain": [
              "torch.float16"
            ]
          },
          "metadata": {},
          "execution_count": 31
        }
      ]
    },
    {
      "cell_type": "code",
      "source": [
        "torch.tensor([1,2,3],\n",
        "             dtype=None, #to edit the datatype of the tensor\n",
        "             device=None, #what device the tensor is on\n",
        "             requires_grad=False) #whether or not to track the gradients"
      ],
      "metadata": {
        "colab": {
          "base_uri": "https://localhost:8080/"
        },
        "id": "8MrGxea_sOV-",
        "outputId": "b0a2703f-a874-4bac-b5a5-abf24d6c134f"
      },
      "execution_count": 32,
      "outputs": [
        {
          "output_type": "execute_result",
          "data": {
            "text/plain": [
              "tensor([1, 2, 3])"
            ]
          },
          "metadata": {},
          "execution_count": 32
        }
      ]
    },
    {
      "cell_type": "code",
      "source": [
        "float_64_tensor=float_16_tensor.type(torch.float64)\n",
        "float_64_tensor"
      ],
      "metadata": {
        "colab": {
          "base_uri": "https://localhost:8080/"
        },
        "id": "vgiuNDu_tEwn",
        "outputId": "40352ed4-697b-48a0-a1f8-4041ea68d997"
      },
      "execution_count": 33,
      "outputs": [
        {
          "output_type": "execute_result",
          "data": {
            "text/plain": [
              "tensor([[9., 8., 7.],\n",
              "        [6., 7., 8.]], dtype=torch.float64)"
            ]
          },
          "metadata": {},
          "execution_count": 33
        }
      ]
    },
    {
      "cell_type": "code",
      "source": [
        "float_16_tensor*float_64_tensor #dtype promotion"
      ],
      "metadata": {
        "colab": {
          "base_uri": "https://localhost:8080/"
        },
        "id": "9fOIyt9dtSUN",
        "outputId": "ac0cb503-3091-4225-d771-47b1a2545a4d"
      },
      "execution_count": 34,
      "outputs": [
        {
          "output_type": "execute_result",
          "data": {
            "text/plain": [
              "tensor([[81., 64., 49.],\n",
              "        [36., 49., 64.]], dtype=torch.float64)"
            ]
          },
          "metadata": {},
          "execution_count": 34
        }
      ]
    },
    {
      "cell_type": "code",
      "source": [
        "int_32_tensor=torch.tensor([3,6,9],dtype=torch.int32)\n",
        "int_32_tensor"
      ],
      "metadata": {
        "colab": {
          "base_uri": "https://localhost:8080/"
        },
        "id": "rbyNxc8RtfF6",
        "outputId": "48adaf30-8a70-4fc9-e42f-d0676d673d2f"
      },
      "execution_count": 35,
      "outputs": [
        {
          "output_type": "execute_result",
          "data": {
            "text/plain": [
              "tensor([3, 6, 9], dtype=torch.int32)"
            ]
          },
          "metadata": {},
          "execution_count": 35
        }
      ]
    },
    {
      "cell_type": "code",
      "source": [
        "float_16_tensor*int_32_tensor #dtype promotion"
      ],
      "metadata": {
        "colab": {
          "base_uri": "https://localhost:8080/"
        },
        "id": "-EY3wEAEtqlv",
        "outputId": "adffc3f2-a596-4201-df9b-1bb8230d197e"
      },
      "execution_count": 37,
      "outputs": [
        {
          "output_type": "execute_result",
          "data": {
            "text/plain": [
              "tensor([[27., 48., 63.],\n",
              "        [18., 42., 72.]], dtype=torch.float16)"
            ]
          },
          "metadata": {},
          "execution_count": 37
        }
      ]
    },
    {
      "cell_type": "markdown",
      "source": [
        "###Getting attributes from tensor\n",
        "\n",
        "1. Getting datatype- use tensor.dtype\n",
        "2. Getting shape   - use tensor.shape\n",
        "3. Getting device  - use tensor.device"
      ],
      "metadata": {
        "id": "dX0MHxSMtxSp"
      }
    },
    {
      "cell_type": "code",
      "source": [
        "tensor_random=torch.rand(3,4,7)\n",
        "tensor_random"
      ],
      "metadata": {
        "colab": {
          "base_uri": "https://localhost:8080/"
        },
        "id": "hmXIIRANt_NX",
        "outputId": "231ba35b-2c70-4e58-d134-293846432e07"
      },
      "execution_count": 42,
      "outputs": [
        {
          "output_type": "execute_result",
          "data": {
            "text/plain": [
              "tensor([[[0.9527, 0.6856, 0.6824, 0.4584, 0.4428, 0.6119, 0.8753],\n",
              "         [0.1595, 0.2185, 0.7317, 0.3652, 0.8757, 0.5342, 0.6291],\n",
              "         [0.0486, 0.6743, 0.1186, 0.2637, 0.4989, 0.3249, 0.2264],\n",
              "         [0.9072, 0.4369, 0.1154, 0.6404, 0.6756, 0.4533, 0.0276]],\n",
              "\n",
              "        [[0.3691, 0.3529, 0.6043, 0.9768, 0.4788, 0.4283, 0.2710],\n",
              "         [0.0338, 0.3944, 0.9938, 0.4120, 0.6295, 0.8792, 0.6181],\n",
              "         [0.3259, 0.2297, 0.7491, 0.0980, 0.9517, 0.7851, 0.9422],\n",
              "         [0.9765, 0.1198, 0.8712, 0.8164, 0.0212, 0.1284, 0.1068]],\n",
              "\n",
              "        [[0.4090, 0.6178, 0.2198, 0.0891, 0.0270, 0.4784, 0.2942],\n",
              "         [0.1728, 0.6361, 0.6427, 0.9667, 0.8726, 0.0265, 0.1409],\n",
              "         [0.3696, 0.2202, 0.7580, 0.9911, 0.7692, 0.0785, 0.5117],\n",
              "         [0.4259, 0.6996, 0.5664, 0.8696, 0.6203, 0.2368, 0.4716]]])"
            ]
          },
          "metadata": {},
          "execution_count": 42
        }
      ]
    },
    {
      "cell_type": "code",
      "source": [
        "tensor_random.shape,tensor_random.dtype,tensor_random.device"
      ],
      "metadata": {
        "colab": {
          "base_uri": "https://localhost:8080/"
        },
        "id": "1mjXzBsauE05",
        "outputId": "bcb5d902-b268-4ea2-c7a8-5e6528da5923"
      },
      "execution_count": 43,
      "outputs": [
        {
          "output_type": "execute_result",
          "data": {
            "text/plain": [
              "(torch.Size([3, 4, 7]), torch.float32, device(type='cpu'))"
            ]
          },
          "metadata": {},
          "execution_count": 43
        }
      ]
    },
    {
      "cell_type": "code",
      "source": [
        "int_32_tensor.shape,int_32_tensor.dtype,int_32_tensor.device"
      ],
      "metadata": {
        "colab": {
          "base_uri": "https://localhost:8080/"
        },
        "id": "9QO8aEKKuOwG",
        "outputId": "48217798-018d-4acd-9402-5e86f9af24d6"
      },
      "execution_count": 44,
      "outputs": [
        {
          "output_type": "execute_result",
          "data": {
            "text/plain": [
              "(torch.Size([3]), torch.int32, device(type='cpu'))"
            ]
          },
          "metadata": {},
          "execution_count": 44
        }
      ]
    },
    {
      "cell_type": "markdown",
      "source": [
        "###Tensor Operations\n",
        "\n",
        "1. Addition\n",
        "2. Subtraction\n",
        "3. Multiplication\n",
        "4. division\n",
        "5. Matrix Multiplication"
      ],
      "metadata": {
        "id": "XbNItdE5uY3e"
      }
    },
    {
      "cell_type": "code",
      "source": [
        "#addition\n",
        "tensor_random+10\n",
        "#do the same operation for all values"
      ],
      "metadata": {
        "colab": {
          "base_uri": "https://localhost:8080/"
        },
        "id": "VjfVSd-9uqD4",
        "outputId": "aa1b9471-cf44-48e9-9518-0a5b5a401daa"
      },
      "execution_count": 46,
      "outputs": [
        {
          "output_type": "execute_result",
          "data": {
            "text/plain": [
              "tensor([[[10.9527, 10.6856, 10.6824, 10.4584, 10.4428, 10.6119, 10.8753],\n",
              "         [10.1595, 10.2185, 10.7317, 10.3652, 10.8757, 10.5342, 10.6291],\n",
              "         [10.0486, 10.6743, 10.1186, 10.2637, 10.4989, 10.3249, 10.2264],\n",
              "         [10.9072, 10.4369, 10.1154, 10.6404, 10.6756, 10.4533, 10.0276]],\n",
              "\n",
              "        [[10.3691, 10.3529, 10.6043, 10.9768, 10.4788, 10.4283, 10.2710],\n",
              "         [10.0338, 10.3944, 10.9938, 10.4120, 10.6295, 10.8792, 10.6181],\n",
              "         [10.3259, 10.2297, 10.7491, 10.0980, 10.9517, 10.7851, 10.9422],\n",
              "         [10.9765, 10.1198, 10.8712, 10.8164, 10.0212, 10.1284, 10.1068]],\n",
              "\n",
              "        [[10.4090, 10.6178, 10.2198, 10.0891, 10.0270, 10.4784, 10.2942],\n",
              "         [10.1728, 10.6361, 10.6427, 10.9667, 10.8726, 10.0265, 10.1409],\n",
              "         [10.3696, 10.2202, 10.7580, 10.9911, 10.7692, 10.0785, 10.5117],\n",
              "         [10.4259, 10.6996, 10.5664, 10.8696, 10.6203, 10.2368, 10.4716]]])"
            ]
          },
          "metadata": {},
          "execution_count": 46
        }
      ]
    },
    {
      "cell_type": "code",
      "source": [
        "#multiplication\n",
        "tensor_random*21"
      ],
      "metadata": {
        "colab": {
          "base_uri": "https://localhost:8080/"
        },
        "id": "GQorhk6putIA",
        "outputId": "b1cda677-7471-4b8a-9831-c03d15fc5578"
      },
      "execution_count": 47,
      "outputs": [
        {
          "output_type": "execute_result",
          "data": {
            "text/plain": [
              "tensor([[[20.0067, 14.3983, 14.3309,  9.6261,  9.2984, 12.8496, 18.3816],\n",
              "         [ 3.3493,  4.5894, 15.3661,  7.6693, 18.3894, 11.2177, 13.2109],\n",
              "         [ 1.0207, 14.1597,  2.4909,  5.5370, 10.4778,  6.8224,  4.7543],\n",
              "         [19.0514,  9.1750,  2.4238, 13.4489, 14.1866,  9.5197,  0.5794]],\n",
              "\n",
              "        [[ 7.7513,  7.4108, 12.6903, 20.5122, 10.0538,  8.9950,  5.6918],\n",
              "         [ 0.7102,  8.2823, 20.8704,  8.6510, 13.2204, 18.4638, 12.9809],\n",
              "         [ 6.8444,  4.8231, 15.7320,  2.0575, 19.9867, 16.4870, 19.7859],\n",
              "         [20.5074,  2.5161, 18.2944, 17.1444,  0.4448,  2.6955,  2.2435]],\n",
              "\n",
              "        [[ 8.5889, 12.9728,  4.6149,  1.8710,  0.5662, 10.0459,  6.1781],\n",
              "         [ 3.6292, 13.3576, 13.4961, 20.3011, 18.3249,  0.5560,  2.9585],\n",
              "         [ 7.7615,  4.6247, 15.9188, 20.8134, 16.1527,  1.6478, 10.7459],\n",
              "         [ 8.9431, 14.6908, 11.8948, 18.2607, 13.0265,  4.9733,  9.9040]]])"
            ]
          },
          "metadata": {},
          "execution_count": 47
        }
      ]
    },
    {
      "cell_type": "code",
      "source": [
        "#subtraction\n",
        "tensor_random-9"
      ],
      "metadata": {
        "colab": {
          "base_uri": "https://localhost:8080/"
        },
        "id": "XhtkYsvquwdS",
        "outputId": "c4a20d8b-a5ce-4a7a-89ef-0c98c4c4dee2"
      },
      "execution_count": 51,
      "outputs": [
        {
          "output_type": "execute_result",
          "data": {
            "text/plain": [
              "tensor([[[-8.0473, -8.3144, -8.3176, -8.5416, -8.5572, -8.3881, -8.1247],\n",
              "         [-8.8405, -8.7815, -8.2683, -8.6348, -8.1243, -8.4658, -8.3709],\n",
              "         [-8.9514, -8.3257, -8.8814, -8.7363, -8.5011, -8.6751, -8.7736],\n",
              "         [-8.0928, -8.5631, -8.8846, -8.3596, -8.3244, -8.5467, -8.9724]],\n",
              "\n",
              "        [[-8.6309, -8.6471, -8.3957, -8.0232, -8.5212, -8.5717, -8.7290],\n",
              "         [-8.9662, -8.6056, -8.0062, -8.5880, -8.3705, -8.1208, -8.3819],\n",
              "         [-8.6741, -8.7703, -8.2509, -8.9020, -8.0483, -8.2149, -8.0578],\n",
              "         [-8.0235, -8.8802, -8.1288, -8.1836, -8.9788, -8.8716, -8.8932]],\n",
              "\n",
              "        [[-8.5910, -8.3822, -8.7802, -8.9109, -8.9730, -8.5216, -8.7058],\n",
              "         [-8.8272, -8.3639, -8.3573, -8.0333, -8.1274, -8.9735, -8.8591],\n",
              "         [-8.6304, -8.7798, -8.2420, -8.0089, -8.2308, -8.9215, -8.4883],\n",
              "         [-8.5741, -8.3004, -8.4336, -8.1304, -8.3797, -8.7632, -8.5284]]])"
            ]
          },
          "metadata": {},
          "execution_count": 51
        }
      ]
    },
    {
      "cell_type": "code",
      "source": [
        "#functions\n",
        "tensor=torch.mul(tensor_random,10)\n",
        "print(f\"Multiplying 10 : {tensor}\")\n",
        "tensor=torch.add(tensor_random,10)\n",
        "print(f\"Adding 10 : {tensor}\")"
      ],
      "metadata": {
        "colab": {
          "base_uri": "https://localhost:8080/"
        },
        "id": "R9EQCIACuyy8",
        "outputId": "57917653-6b5d-4c39-d359-4e5a456bffb5"
      },
      "execution_count": 52,
      "outputs": [
        {
          "output_type": "stream",
          "name": "stdout",
          "text": [
            "Multiplying 10 : tensor([[[9.5270, 6.8564, 6.8243, 4.5838, 4.4278, 6.1189, 8.7531],\n",
            "         [1.5949, 2.1854, 7.3172, 3.6521, 8.7568, 5.3418, 6.2909],\n",
            "         [0.4860, 6.7427, 1.1861, 2.6366, 4.9894, 3.2488, 2.2639],\n",
            "         [9.0721, 4.3690, 1.1542, 6.4042, 6.7555, 4.5332, 0.2759]],\n",
            "\n",
            "        [[3.6911, 3.5290, 6.0430, 9.7677, 4.7875, 4.2834, 2.7104],\n",
            "         [0.3382, 3.9440, 9.9383, 4.1195, 6.2954, 8.7923, 6.1814],\n",
            "         [3.2593, 2.2967, 7.4914, 0.9798, 9.5175, 7.8510, 9.4219],\n",
            "         [9.7654, 1.1982, 8.7116, 8.1640, 0.2118, 1.2836, 1.0683]],\n",
            "\n",
            "        [[4.0900, 6.1775, 2.1976, 0.8910, 0.2696, 4.7838, 2.9419],\n",
            "         [1.7282, 6.3607, 6.4267, 9.6672, 8.7262, 0.2648, 1.4088],\n",
            "         [3.6959, 2.2022, 7.5804, 9.9112, 7.6917, 0.7847, 5.1171],\n",
            "         [4.2586, 6.9956, 5.6642, 8.6956, 6.2031, 2.3682, 4.7162]]])\n",
            "Adding 10 : tensor([[[10.9527, 10.6856, 10.6824, 10.4584, 10.4428, 10.6119, 10.8753],\n",
            "         [10.1595, 10.2185, 10.7317, 10.3652, 10.8757, 10.5342, 10.6291],\n",
            "         [10.0486, 10.6743, 10.1186, 10.2637, 10.4989, 10.3249, 10.2264],\n",
            "         [10.9072, 10.4369, 10.1154, 10.6404, 10.6756, 10.4533, 10.0276]],\n",
            "\n",
            "        [[10.3691, 10.3529, 10.6043, 10.9768, 10.4788, 10.4283, 10.2710],\n",
            "         [10.0338, 10.3944, 10.9938, 10.4120, 10.6295, 10.8792, 10.6181],\n",
            "         [10.3259, 10.2297, 10.7491, 10.0980, 10.9517, 10.7851, 10.9422],\n",
            "         [10.9765, 10.1198, 10.8712, 10.8164, 10.0212, 10.1284, 10.1068]],\n",
            "\n",
            "        [[10.4090, 10.6178, 10.2198, 10.0891, 10.0270, 10.4784, 10.2942],\n",
            "         [10.1728, 10.6361, 10.6427, 10.9667, 10.8726, 10.0265, 10.1409],\n",
            "         [10.3696, 10.2202, 10.7580, 10.9911, 10.7692, 10.0785, 10.5117],\n",
            "         [10.4259, 10.6996, 10.5664, 10.8696, 10.6203, 10.2368, 10.4716]]])\n"
          ]
        }
      ]
    },
    {
      "cell_type": "markdown",
      "source": [
        "####Matrix Multiplication\n",
        "\n",
        "1. Element wise multiplication\n",
        "2. Multiplying with another matrix i.e dot product"
      ],
      "metadata": {
        "id": "e1TfMaoqvT0S"
      }
    },
    {
      "cell_type": "code",
      "source": [
        "#Element wise multiplication\n",
        "print(int_32_tensor)\n",
        "print(float_16_tensor)\n",
        "element_mul=int_32_tensor*float_16_tensor\n",
        "element_mul"
      ],
      "metadata": {
        "colab": {
          "base_uri": "https://localhost:8080/"
        },
        "id": "abXgQVl0vjF9",
        "outputId": "648fd8c0-a3a6-49d9-e73d-f09a7aa391f9"
      },
      "execution_count": 55,
      "outputs": [
        {
          "output_type": "stream",
          "name": "stdout",
          "text": [
            "tensor([3, 6, 9], dtype=torch.int32)\n",
            "tensor([[9., 8., 7.],\n",
            "        [6., 7., 8.]], dtype=torch.float16)\n"
          ]
        },
        {
          "output_type": "execute_result",
          "data": {
            "text/plain": [
              "tensor([[27., 48., 63.],\n",
              "        [18., 42., 72.]], dtype=torch.float16)"
            ]
          },
          "metadata": {},
          "execution_count": 55
        }
      ]
    },
    {
      "cell_type": "code",
      "source": [
        "#matrix multiplicationt\n",
        "tensor_1=torch.rand(4,5)\n",
        "tensor_2=torch.rand(5,4)\n",
        "\n",
        "mat_mul=torch.matmul(tensor_1,tensor_2)\n",
        "mat_mul_short=torch.mm(tensor_1,tensor_2)#alias of matmul\n",
        "mat_mul_inv=torch.mm(tensor_2,tensor_1)\n",
        "\n",
        "mat_mul,mat_mul_short,mat_mul_inv"
      ],
      "metadata": {
        "colab": {
          "base_uri": "https://localhost:8080/"
        },
        "id": "CXoIWF1pw1Za",
        "outputId": "6141a7f1-3448-423f-bf44-c24a7e3cfd77"
      },
      "execution_count": 56,
      "outputs": [
        {
          "output_type": "execute_result",
          "data": {
            "text/plain": [
              "(tensor([[0.6561, 0.5015, 1.1514, 0.9129],\n",
              "         [1.3632, 0.7790, 1.4860, 1.6371],\n",
              "         [0.7197, 0.4751, 1.0907, 0.9923],\n",
              "         [0.7923, 0.6614, 1.0413, 0.7608]]),\n",
              " tensor([[0.6561, 0.5015, 1.1514, 0.9129],\n",
              "         [1.3632, 0.7790, 1.4860, 1.6371],\n",
              "         [0.7197, 0.4751, 1.0907, 0.9923],\n",
              "         [0.7923, 0.6614, 1.0413, 0.7608]]),\n",
              " tensor([[0.1842, 0.6551, 1.0269, 0.3081, 1.1728],\n",
              "         [0.2469, 0.5579, 0.5901, 0.3216, 0.6993],\n",
              "         [0.5807, 1.0981, 0.9023, 0.6687, 1.0119],\n",
              "         [0.2039, 0.5841, 0.8498, 0.3022, 0.9214],\n",
              "         [0.3544, 0.9242, 1.1799, 0.4955, 1.3399]]))"
            ]
          },
          "metadata": {},
          "execution_count": 56
        }
      ]
    },
    {
      "cell_type": "code",
      "source": [
        "#the most common error in matrix multiplication : shape error\n",
        "tensor_mul_1=torch.rand(3,4)\n",
        "tensor_mul_2=torch.rand(2,3)\n",
        "\n",
        "mat_mul_tensor=torch.matmul(tensor_mul_1,tensor_mul_2) #the inner dimensions must match\n",
        "mat_mul_tensor"
      ],
      "metadata": {
        "id": "klW05ap0xCtR",
        "colab": {
          "base_uri": "https://localhost:8080/",
          "height": 193
        },
        "outputId": "54505da3-79d2-4682-b1ea-669671e2d468"
      },
      "execution_count": 57,
      "outputs": [
        {
          "output_type": "error",
          "ename": "RuntimeError",
          "evalue": "mat1 and mat2 shapes cannot be multiplied (3x4 and 2x3)",
          "traceback": [
            "\u001b[0;31m---------------------------------------------------------------------------\u001b[0m",
            "\u001b[0;31mRuntimeError\u001b[0m                              Traceback (most recent call last)",
            "\u001b[0;32m<ipython-input-57-318595329>\u001b[0m in \u001b[0;36m<cell line: 0>\u001b[0;34m()\u001b[0m\n\u001b[1;32m      3\u001b[0m \u001b[0mtensor_mul_2\u001b[0m\u001b[0;34m=\u001b[0m\u001b[0mtorch\u001b[0m\u001b[0;34m.\u001b[0m\u001b[0mrand\u001b[0m\u001b[0;34m(\u001b[0m\u001b[0;36m2\u001b[0m\u001b[0;34m,\u001b[0m\u001b[0;36m3\u001b[0m\u001b[0;34m)\u001b[0m\u001b[0;34m\u001b[0m\u001b[0;34m\u001b[0m\u001b[0m\n\u001b[1;32m      4\u001b[0m \u001b[0;34m\u001b[0m\u001b[0m\n\u001b[0;32m----> 5\u001b[0;31m \u001b[0mmat_mul_tensor\u001b[0m\u001b[0;34m=\u001b[0m\u001b[0mtorch\u001b[0m\u001b[0;34m.\u001b[0m\u001b[0mmatmul\u001b[0m\u001b[0;34m(\u001b[0m\u001b[0mtensor_mul_1\u001b[0m\u001b[0;34m,\u001b[0m\u001b[0mtensor_mul_2\u001b[0m\u001b[0;34m)\u001b[0m \u001b[0;31m#the inner dimensions must match\u001b[0m\u001b[0;34m\u001b[0m\u001b[0;34m\u001b[0m\u001b[0m\n\u001b[0m\u001b[1;32m      6\u001b[0m \u001b[0mmat_mul_tensor\u001b[0m\u001b[0;34m\u001b[0m\u001b[0;34m\u001b[0m\u001b[0m\n",
            "\u001b[0;31mRuntimeError\u001b[0m: mat1 and mat2 shapes cannot be multiplied (3x4 and 2x3)"
          ]
        }
      ]
    },
    {
      "cell_type": "code",
      "source": [
        "#using transpose\n",
        "tensor_A=torch.tensor([[1,2],\n",
        "                       [3,4],\n",
        "                       [5,6]])\n",
        "tensor_B=torch.tensor([[7,10],\n",
        "                       [8,11],\n",
        "                       [9,12]])\n",
        "tensor_A.T,tensor_B.T"
      ],
      "metadata": {
        "colab": {
          "base_uri": "https://localhost:8080/"
        },
        "id": "Xkp53IMk4zpL",
        "outputId": "ad69a6c3-d304-4652-cace-ee47b77ed081"
      },
      "execution_count": 58,
      "outputs": [
        {
          "output_type": "execute_result",
          "data": {
            "text/plain": [
              "(tensor([[1, 3, 5],\n",
              "         [2, 4, 6]]),\n",
              " tensor([[ 7,  8,  9],\n",
              "         [10, 11, 12]]))"
            ]
          },
          "metadata": {},
          "execution_count": 58
        }
      ]
    },
    {
      "cell_type": "code",
      "source": [
        "tensor_C=torch.mm(tensor_A,tensor_B.T)\n",
        "tensor_C"
      ],
      "metadata": {
        "colab": {
          "base_uri": "https://localhost:8080/"
        },
        "id": "zfcQMLBf6FU0",
        "outputId": "846a86c8-aef1-49f2-ca5d-5d2592e8d37b"
      },
      "execution_count": 59,
      "outputs": [
        {
          "output_type": "execute_result",
          "data": {
            "text/plain": [
              "tensor([[ 27,  30,  33],\n",
              "        [ 61,  68,  75],\n",
              "        [ 95, 106, 117]])"
            ]
          },
          "metadata": {},
          "execution_count": 59
        }
      ]
    },
    {
      "cell_type": "markdown",
      "source": [
        "###Tensor Aggregation\n",
        "1. Mean\n",
        "2. Max\n",
        "3. Min\n",
        "4. Sum"
      ],
      "metadata": {
        "id": "mMMQo9zI6LEs"
      }
    },
    {
      "cell_type": "code",
      "source": [
        "x=torch.arange(0,100,5)\n",
        "x"
      ],
      "metadata": {
        "colab": {
          "base_uri": "https://localhost:8080/"
        },
        "id": "NkiOs9Fb7AjA",
        "outputId": "94e63b7a-2d74-4fef-ec08-b4efb6a88f65"
      },
      "execution_count": 60,
      "outputs": [
        {
          "output_type": "execute_result",
          "data": {
            "text/plain": [
              "tensor([ 0,  5, 10, 15, 20, 25, 30, 35, 40, 45, 50, 55, 60, 65, 70, 75, 80, 85,\n",
              "        90, 95])"
            ]
          },
          "metadata": {},
          "execution_count": 60
        }
      ]
    },
    {
      "cell_type": "code",
      "source": [
        "#min\n",
        "torch.min(x)"
      ],
      "metadata": {
        "colab": {
          "base_uri": "https://localhost:8080/"
        },
        "id": "t6EBgT657GJP",
        "outputId": "2819590d-2912-4446-e549-7d787e5cfcce"
      },
      "execution_count": 61,
      "outputs": [
        {
          "output_type": "execute_result",
          "data": {
            "text/plain": [
              "tensor(0)"
            ]
          },
          "metadata": {},
          "execution_count": 61
        }
      ]
    },
    {
      "cell_type": "code",
      "source": [
        "#max\n",
        "torch.max(x)"
      ],
      "metadata": {
        "colab": {
          "base_uri": "https://localhost:8080/"
        },
        "id": "e8HMy5xm7Md1",
        "outputId": "2581f220-44d9-44ac-e8c6-b877491ec590"
      },
      "execution_count": 62,
      "outputs": [
        {
          "output_type": "execute_result",
          "data": {
            "text/plain": [
              "tensor(95)"
            ]
          },
          "metadata": {},
          "execution_count": 62
        }
      ]
    },
    {
      "cell_type": "code",
      "source": [
        "#mean\n",
        "torch.mean(x)\n",
        "#output shd match the tensor dtype"
      ],
      "metadata": {
        "colab": {
          "base_uri": "https://localhost:8080/",
          "height": 176
        },
        "id": "jcQs4x9n7OUt",
        "outputId": "93b1c9e3-ef01-4926-d392-95725a9b1794"
      },
      "execution_count": 66,
      "outputs": [
        {
          "output_type": "error",
          "ename": "RuntimeError",
          "evalue": "mean(): could not infer output dtype. Input dtype must be either a floating point or complex dtype. Got: Long",
          "traceback": [
            "\u001b[0;31m---------------------------------------------------------------------------\u001b[0m",
            "\u001b[0;31mRuntimeError\u001b[0m                              Traceback (most recent call last)",
            "\u001b[0;32m<ipython-input-66-2685961593>\u001b[0m in \u001b[0;36m<cell line: 0>\u001b[0;34m()\u001b[0m\n\u001b[1;32m      1\u001b[0m \u001b[0;31m#mean\u001b[0m\u001b[0;34m\u001b[0m\u001b[0;34m\u001b[0m\u001b[0m\n\u001b[0;32m----> 2\u001b[0;31m \u001b[0mtorch\u001b[0m\u001b[0;34m.\u001b[0m\u001b[0mmean\u001b[0m\u001b[0;34m(\u001b[0m\u001b[0mx\u001b[0m\u001b[0;34m)\u001b[0m\u001b[0;34m\u001b[0m\u001b[0;34m\u001b[0m\u001b[0m\n\u001b[0m\u001b[1;32m      3\u001b[0m \u001b[0;31m#output shd match the tensor dtype\u001b[0m\u001b[0;34m\u001b[0m\u001b[0;34m\u001b[0m\u001b[0m\n",
            "\u001b[0;31mRuntimeError\u001b[0m: mean(): could not infer output dtype. Input dtype must be either a floating point or complex dtype. Got: Long"
          ]
        }
      ]
    },
    {
      "cell_type": "markdown",
      "source": [
        "torch.mean doesnt work with int types."
      ],
      "metadata": {
        "id": "9VCPLIvs7Wa1"
      }
    },
    {
      "cell_type": "code",
      "source": [
        "torch.mean(x.type(torch.float32))"
      ],
      "metadata": {
        "colab": {
          "base_uri": "https://localhost:8080/"
        },
        "id": "VvBf7iS07UrK",
        "outputId": "91e541f9-635d-4683-cd45-682d4f9ae96d"
      },
      "execution_count": 64,
      "outputs": [
        {
          "output_type": "execute_result",
          "data": {
            "text/plain": [
              "tensor(47.5000)"
            ]
          },
          "metadata": {},
          "execution_count": 64
        }
      ]
    },
    {
      "cell_type": "code",
      "source": [
        "#sum\n",
        "torch.sum(x)"
      ],
      "metadata": {
        "colab": {
          "base_uri": "https://localhost:8080/"
        },
        "id": "Ctvb0KRB7j2K",
        "outputId": "b0b26ba2-2c4d-43b3-fa6e-8620ef2e10ba"
      },
      "execution_count": 65,
      "outputs": [
        {
          "output_type": "execute_result",
          "data": {
            "text/plain": [
              "tensor(950)"
            ]
          },
          "metadata": {},
          "execution_count": 65
        }
      ]
    },
    {
      "cell_type": "markdown",
      "source": [
        "###Positional min and max"
      ],
      "metadata": {
        "id": "NC-WpPZL7nCG"
      }
    },
    {
      "cell_type": "code",
      "source": [
        "#positional minimum\n",
        "x.argmin()"
      ],
      "metadata": {
        "colab": {
          "base_uri": "https://localhost:8080/"
        },
        "id": "pITK4V0S7t4N",
        "outputId": "87dce20a-59d4-4abd-d4c8-4c2c15f02db5"
      },
      "execution_count": 67,
      "outputs": [
        {
          "output_type": "execute_result",
          "data": {
            "text/plain": [
              "tensor(0)"
            ]
          },
          "metadata": {},
          "execution_count": 67
        }
      ]
    },
    {
      "cell_type": "code",
      "source": [
        "#positional maximum\n",
        "x.argmax()"
      ],
      "metadata": {
        "colab": {
          "base_uri": "https://localhost:8080/"
        },
        "id": "UaRaS4Zj7u_w",
        "outputId": "48cb76f9-feaa-42c7-ff58-cc36c839ce15"
      },
      "execution_count": 68,
      "outputs": [
        {
          "output_type": "execute_result",
          "data": {
            "text/plain": [
              "tensor(19)"
            ]
          },
          "metadata": {},
          "execution_count": 68
        }
      ]
    },
    {
      "cell_type": "code",
      "source": [
        "x[0],x[19]"
      ],
      "metadata": {
        "colab": {
          "base_uri": "https://localhost:8080/"
        },
        "id": "uzfr67UO7wM-",
        "outputId": "c0f4177f-f544-415e-ab2a-fa5273ce606c"
      },
      "execution_count": 69,
      "outputs": [
        {
          "output_type": "execute_result",
          "data": {
            "text/plain": [
              "(tensor(0), tensor(95))"
            ]
          },
          "metadata": {},
          "execution_count": 69
        }
      ]
    },
    {
      "cell_type": "markdown",
      "source": [
        "###Reshaping,stacking,squeezing and unsqueezing tensors\n",
        "\n",
        "* Reshaping- reshaping the input tensor to a different tensor\n",
        "* View     - return a view of an input tensor of certain shape but keep memory as the original tensor\n",
        "* Stacking - combine multiple tensors on top of each other or side by side\n",
        "* Squeeze  - remove dimensions from tensor\n",
        "* Unsqueeze- add dimension to a tensor\n",
        "* Permute  - return a view of the input with the dimensions permuted in a certain way"
      ],
      "metadata": {
        "id": "0OllTIzF7z3K"
      }
    },
    {
      "cell_type": "code",
      "source": [
        "x=torch.arange(1.,50.,5)\n",
        "x"
      ],
      "metadata": {
        "colab": {
          "base_uri": "https://localhost:8080/"
        },
        "id": "6LzYXQse9DKe",
        "outputId": "2402b2e2-5000-4839-d8c1-0137520497e1"
      },
      "execution_count": 70,
      "outputs": [
        {
          "output_type": "execute_result",
          "data": {
            "text/plain": [
              "tensor([ 1.,  6., 11., 16., 21., 26., 31., 36., 41., 46.])"
            ]
          },
          "metadata": {},
          "execution_count": 70
        }
      ]
    },
    {
      "cell_type": "code",
      "source": [
        "x.shape"
      ],
      "metadata": {
        "colab": {
          "base_uri": "https://localhost:8080/"
        },
        "id": "Mh8oIqqs9PsY",
        "outputId": "8b4779ab-a78f-4d46-8ad4-9eb319efed6c"
      },
      "execution_count": 71,
      "outputs": [
        {
          "output_type": "execute_result",
          "data": {
            "text/plain": [
              "torch.Size([10])"
            ]
          },
          "metadata": {},
          "execution_count": 71
        }
      ]
    },
    {
      "cell_type": "code",
      "source": [
        "#reshaping\n",
        "x_reshaped=x.reshape(5,2) #reshape has to be compatible with original shape\n",
        "x_reshaped"
      ],
      "metadata": {
        "colab": {
          "base_uri": "https://localhost:8080/"
        },
        "id": "0QxqZ7YY9hdv",
        "outputId": "97c988fc-a27e-416f-90bb-d19bb530e9a9"
      },
      "execution_count": 72,
      "outputs": [
        {
          "output_type": "execute_result",
          "data": {
            "text/plain": [
              "tensor([[ 1.,  6.],\n",
              "        [11., 16.],\n",
              "        [21., 26.],\n",
              "        [31., 36.],\n",
              "        [41., 46.]])"
            ]
          },
          "metadata": {},
          "execution_count": 72
        }
      ]
    },
    {
      "cell_type": "code",
      "source": [
        "#change the view\n",
        "z=x.view(10,1)\n",
        "z,z.shape"
      ],
      "metadata": {
        "colab": {
          "base_uri": "https://localhost:8080/"
        },
        "id": "nTDIW4MX9pwP",
        "outputId": "bf91ef87-3c08-4885-82c3-91bec49257e6"
      },
      "execution_count": 73,
      "outputs": [
        {
          "output_type": "execute_result",
          "data": {
            "text/plain": [
              "(tensor([[ 1.],\n",
              "         [ 6.],\n",
              "         [11.],\n",
              "         [16.],\n",
              "         [21.],\n",
              "         [26.],\n",
              "         [31.],\n",
              "         [36.],\n",
              "         [41.],\n",
              "         [46.]]),\n",
              " torch.Size([10, 1]))"
            ]
          },
          "metadata": {},
          "execution_count": 73
        }
      ]
    },
    {
      "cell_type": "code",
      "source": [
        "#changing z changes x because a view share the original tensor's memory\n",
        "#like shallow copy ig\n",
        "z[7,:]=52\n",
        "z,x"
      ],
      "metadata": {
        "colab": {
          "base_uri": "https://localhost:8080/"
        },
        "id": "9-IP0QnD9xwz",
        "outputId": "b1102610-8036-48e1-c5d5-b10d339f71e0"
      },
      "execution_count": 75,
      "outputs": [
        {
          "output_type": "execute_result",
          "data": {
            "text/plain": [
              "(tensor([[ 1.],\n",
              "         [ 6.],\n",
              "         [11.],\n",
              "         [16.],\n",
              "         [21.],\n",
              "         [26.],\n",
              "         [31.],\n",
              "         [52.],\n",
              "         [41.],\n",
              "         [46.]]),\n",
              " tensor([ 1.,  6., 11., 16., 21., 26., 31., 52., 41., 46.]))"
            ]
          },
          "metadata": {},
          "execution_count": 75
        }
      ]
    },
    {
      "cell_type": "code",
      "source": [
        "#stacking\n",
        "x_stacked=torch.stack([x,x],dim=0)\n",
        "x_stacked"
      ],
      "metadata": {
        "colab": {
          "base_uri": "https://localhost:8080/"
        },
        "id": "IkLGhtc7-Tw9",
        "outputId": "ec3e8d69-4f3d-4b63-d1cd-6af542e5814c"
      },
      "execution_count": 79,
      "outputs": [
        {
          "output_type": "execute_result",
          "data": {
            "text/plain": [
              "tensor([[ 1.,  6., 11., 16., 21., 26., 31., 52., 41., 46.],\n",
              "        [ 1.,  6., 11., 16., 21., 26., 31., 52., 41., 46.]])"
            ]
          },
          "metadata": {},
          "execution_count": 79
        }
      ]
    },
    {
      "cell_type": "code",
      "source": [
        "x_stacked=torch.stack([x,x],dim=1)\n",
        "x_stacked"
      ],
      "metadata": {
        "colab": {
          "base_uri": "https://localhost:8080/"
        },
        "id": "urvMaLXo-gxE",
        "outputId": "ac39f00d-2126-476f-c3e0-88b2ad19da14"
      },
      "execution_count": 77,
      "outputs": [
        {
          "output_type": "execute_result",
          "data": {
            "text/plain": [
              "tensor([[ 1.,  1.],\n",
              "        [ 6.,  6.],\n",
              "        [11., 11.],\n",
              "        [16., 16.],\n",
              "        [21., 21.],\n",
              "        [26., 26.],\n",
              "        [31., 31.],\n",
              "        [52., 52.],\n",
              "        [41., 41.],\n",
              "        [46., 46.]])"
            ]
          },
          "metadata": {},
          "execution_count": 77
        }
      ]
    },
    {
      "cell_type": "code",
      "source": [
        "#squeezing\n",
        "x=torch.arange(0.,10.)\n",
        "x_reshaped=x.reshape(1,10)\n",
        "\n",
        "x_squeezed=torch.squeeze(x_reshaped,dim=0)"
      ],
      "metadata": {
        "id": "3TfyXqeC-mxc"
      },
      "execution_count": 81,
      "outputs": []
    },
    {
      "cell_type": "code",
      "source": [
        "x_reshaped.shape,x_squeezed.shape"
      ],
      "metadata": {
        "colab": {
          "base_uri": "https://localhost:8080/"
        },
        "id": "cEt2Th8a-7t3",
        "outputId": "d074e200-4986-4088-9fe2-d051404712a2"
      },
      "execution_count": 82,
      "outputs": [
        {
          "output_type": "execute_result",
          "data": {
            "text/plain": [
              "(torch.Size([1, 10]), torch.Size([10]))"
            ]
          },
          "metadata": {},
          "execution_count": 82
        }
      ]
    },
    {
      "cell_type": "code",
      "source": [
        "#unsqueeze\n",
        "x_unsqueezed=x_squeezed.unsqueeze(dim=1)\n",
        "x_unsqueezed"
      ],
      "metadata": {
        "colab": {
          "base_uri": "https://localhost:8080/"
        },
        "id": "lO1x9F8__TEL",
        "outputId": "185d6128-56b2-4ba3-b2d7-ae0d2baca5ba"
      },
      "execution_count": 83,
      "outputs": [
        {
          "output_type": "execute_result",
          "data": {
            "text/plain": [
              "tensor([[0.],\n",
              "        [1.],\n",
              "        [2.],\n",
              "        [3.],\n",
              "        [4.],\n",
              "        [5.],\n",
              "        [6.],\n",
              "        [7.],\n",
              "        [8.],\n",
              "        [9.]])"
            ]
          },
          "metadata": {},
          "execution_count": 83
        }
      ]
    },
    {
      "cell_type": "code",
      "source": [
        "#permuting-returns a view with dimensions rearranged\n",
        "x=torch.ones(size=(4,2,7))\n",
        "x\n"
      ],
      "metadata": {
        "colab": {
          "base_uri": "https://localhost:8080/"
        },
        "id": "EwXI24RK_2r9",
        "outputId": "69863b64-37a8-4f23-9e8b-43075fd11b32"
      },
      "execution_count": 84,
      "outputs": [
        {
          "output_type": "execute_result",
          "data": {
            "text/plain": [
              "tensor([[[1., 1., 1., 1., 1., 1., 1.],\n",
              "         [1., 1., 1., 1., 1., 1., 1.]],\n",
              "\n",
              "        [[1., 1., 1., 1., 1., 1., 1.],\n",
              "         [1., 1., 1., 1., 1., 1., 1.]],\n",
              "\n",
              "        [[1., 1., 1., 1., 1., 1., 1.],\n",
              "         [1., 1., 1., 1., 1., 1., 1.]],\n",
              "\n",
              "        [[1., 1., 1., 1., 1., 1., 1.],\n",
              "         [1., 1., 1., 1., 1., 1., 1.]]])"
            ]
          },
          "metadata": {},
          "execution_count": 84
        }
      ]
    },
    {
      "cell_type": "code",
      "source": [
        "x_permuted=x.permute(2,0,1) #shifts axis 0->2, 1->0, 2->1\n"
      ],
      "metadata": {
        "id": "I1241xofALcB"
      },
      "execution_count": 85,
      "outputs": []
    },
    {
      "cell_type": "code",
      "source": [
        "x_permuted.shape,x.shape"
      ],
      "metadata": {
        "colab": {
          "base_uri": "https://localhost:8080/"
        },
        "id": "i11TIjp3AfOF",
        "outputId": "048c8ff1-dddf-43be-f014-43d96bcbe8a3"
      },
      "execution_count": 86,
      "outputs": [
        {
          "output_type": "execute_result",
          "data": {
            "text/plain": [
              "(torch.Size([7, 4, 2]), torch.Size([4, 2, 7]))"
            ]
          },
          "metadata": {},
          "execution_count": 86
        }
      ]
    },
    {
      "cell_type": "markdown",
      "source": [
        "###Indexing in PyTorch"
      ],
      "metadata": {
        "id": "iL-hihbEAiZI"
      }
    },
    {
      "cell_type": "code",
      "source": [
        "x=torch.arange(1.,10.).reshape(1,3,3)\n",
        "x"
      ],
      "metadata": {
        "colab": {
          "base_uri": "https://localhost:8080/"
        },
        "id": "gFyLjtkkyVD-",
        "outputId": "d46fcf50-957c-4b50-f246-3bf3e2baaa17"
      },
      "execution_count": 87,
      "outputs": [
        {
          "output_type": "execute_result",
          "data": {
            "text/plain": [
              "tensor([[[1., 2., 3.],\n",
              "         [4., 5., 6.],\n",
              "         [7., 8., 9.]]])"
            ]
          },
          "metadata": {},
          "execution_count": 87
        }
      ]
    },
    {
      "cell_type": "code",
      "source": [
        "#indexing on the tensor\n",
        "x[0]"
      ],
      "metadata": {
        "colab": {
          "base_uri": "https://localhost:8080/"
        },
        "id": "LGCgf1DMyZWg",
        "outputId": "8c4865eb-6f2e-4879-ce65-46c9bc4aa08d"
      },
      "execution_count": 88,
      "outputs": [
        {
          "output_type": "execute_result",
          "data": {
            "text/plain": [
              "tensor([[1., 2., 3.],\n",
              "        [4., 5., 6.],\n",
              "        [7., 8., 9.]])"
            ]
          },
          "metadata": {},
          "execution_count": 88
        }
      ]
    },
    {
      "cell_type": "code",
      "source": [
        "x[0][0],x[0,0]"
      ],
      "metadata": {
        "colab": {
          "base_uri": "https://localhost:8080/"
        },
        "id": "mmTGedMsycio",
        "outputId": "06cea8e9-e453-48ae-cb61-d6c5ee04998a"
      },
      "execution_count": 89,
      "outputs": [
        {
          "output_type": "execute_result",
          "data": {
            "text/plain": [
              "(tensor([1., 2., 3.]), tensor([1., 2., 3.]))"
            ]
          },
          "metadata": {},
          "execution_count": 89
        }
      ]
    },
    {
      "cell_type": "code",
      "source": [
        "x[0,1,1]"
      ],
      "metadata": {
        "colab": {
          "base_uri": "https://localhost:8080/"
        },
        "id": "jI-yD_QDye7j",
        "outputId": "dfc0937d-d8e9-4248-8bea-0ba17b621282"
      },
      "execution_count": 90,
      "outputs": [
        {
          "output_type": "execute_result",
          "data": {
            "text/plain": [
              "tensor(5.)"
            ]
          },
          "metadata": {},
          "execution_count": 90
        }
      ]
    },
    {
      "cell_type": "code",
      "source": [
        "x[0,2,1]"
      ],
      "metadata": {
        "colab": {
          "base_uri": "https://localhost:8080/"
        },
        "id": "jsvT444AyjM-",
        "outputId": "c05c4794-d7d7-4b85-edea-08427ce28f59"
      },
      "execution_count": 91,
      "outputs": [
        {
          "output_type": "execute_result",
          "data": {
            "text/plain": [
              "tensor(8.)"
            ]
          },
          "metadata": {},
          "execution_count": 91
        }
      ]
    },
    {
      "cell_type": "code",
      "source": [
        "#using : to select all values of a particular dimension\n",
        "x[:,2]"
      ],
      "metadata": {
        "colab": {
          "base_uri": "https://localhost:8080/"
        },
        "id": "zj14L92Rynr6",
        "outputId": "9a883636-533e-49f4-f3c9-8068b6ae8179"
      },
      "execution_count": 95,
      "outputs": [
        {
          "output_type": "execute_result",
          "data": {
            "text/plain": [
              "tensor([[7., 8., 9.]])"
            ]
          },
          "metadata": {},
          "execution_count": 95
        }
      ]
    },
    {
      "cell_type": "code",
      "source": [
        "x[:,2,:]"
      ],
      "metadata": {
        "colab": {
          "base_uri": "https://localhost:8080/"
        },
        "id": "vvbehaAGy-Of",
        "outputId": "6c1a33df-acbc-4273-8c83-53a725d05ee6"
      },
      "execution_count": 96,
      "outputs": [
        {
          "output_type": "execute_result",
          "data": {
            "text/plain": [
              "tensor([[7., 8., 9.]])"
            ]
          },
          "metadata": {},
          "execution_count": 96
        }
      ]
    },
    {
      "cell_type": "code",
      "source": [
        "x[0,:,:]"
      ],
      "metadata": {
        "colab": {
          "base_uri": "https://localhost:8080/"
        },
        "id": "G5fAh6zVzBH2",
        "outputId": "ad2f21ec-90e5-4c7d-beb8-286a882530b1"
      },
      "execution_count": 97,
      "outputs": [
        {
          "output_type": "execute_result",
          "data": {
            "text/plain": [
              "tensor([[1., 2., 3.],\n",
              "        [4., 5., 6.],\n",
              "        [7., 8., 9.]])"
            ]
          },
          "metadata": {},
          "execution_count": 97
        }
      ]
    },
    {
      "cell_type": "markdown",
      "source": [
        "##PyTorch and NumPy\n",
        "\n",
        "PyTorch has functionality to interact with NumPy\n",
        "\n",
        "* Data in NumPy to PyTorch tensor `torch.from_numpy(ndarray)`\n",
        "* Data in PyTorch tensor to NumPy `torch.Tensor.numpy(ndaray)`"
      ],
      "metadata": {
        "id": "8bAVebuAzETG"
      }
    },
    {
      "cell_type": "code",
      "source": [
        "import torch\n",
        "import numpy as np\n",
        "\n",
        "array=np.arange(1.,8.)\n",
        "tensor=torch.from_numpy(array)\n",
        "tensor,array"
      ],
      "metadata": {
        "colab": {
          "base_uri": "https://localhost:8080/"
        },
        "id": "wuRBTueezx_w",
        "outputId": "52178a1f-668b-4505-d4d6-2c6c9c01e16c"
      },
      "execution_count": 105,
      "outputs": [
        {
          "output_type": "execute_result",
          "data": {
            "text/plain": [
              "(tensor([1., 2., 3., 4., 5., 6., 7.], dtype=torch.float64),\n",
              " array([1., 2., 3., 4., 5., 6., 7.]))"
            ]
          },
          "metadata": {},
          "execution_count": 105
        }
      ]
    },
    {
      "cell_type": "markdown",
      "source": [
        "When converting from numpy to pytorch it reflects the datatype of numpy which is float64 whereas as the default datatype of torch is float32"
      ],
      "metadata": {
        "id": "eBotkINX0BJ8"
      }
    },
    {
      "cell_type": "code",
      "source": [
        "tensor=torch.ones(size=(3,3))\n",
        "numpy_tensor=tensor.numpy()"
      ],
      "metadata": {
        "id": "DFQS_wNRz9YD"
      },
      "execution_count": 99,
      "outputs": []
    },
    {
      "cell_type": "code",
      "source": [
        "tensor,numpy_tensor"
      ],
      "metadata": {
        "colab": {
          "base_uri": "https://localhost:8080/"
        },
        "id": "aq9jGjCo0YLG",
        "outputId": "011af167-c4be-426c-8e29-6847b40ff483"
      },
      "execution_count": 100,
      "outputs": [
        {
          "output_type": "execute_result",
          "data": {
            "text/plain": [
              "(tensor([[1., 1., 1.],\n",
              "         [1., 1., 1.],\n",
              "         [1., 1., 1.]]),\n",
              " array([[1., 1., 1.],\n",
              "        [1., 1., 1.],\n",
              "        [1., 1., 1.]], dtype=float32))"
            ]
          },
          "metadata": {},
          "execution_count": 100
        }
      ]
    },
    {
      "cell_type": "markdown",
      "source": [
        "##Reproducability\n",
        "To reduce randomness we use **random seed**."
      ],
      "metadata": {
        "id": "uGQl-WCR0Zyv"
      }
    },
    {
      "cell_type": "code",
      "source": [
        "#creating 2 random tensors\n",
        "random_tensor_A=torch.rand(4,5)\n",
        "random_tensor_B=torch.rand(4,5)\n",
        "random_tensor_A,random_tensor_B"
      ],
      "metadata": {
        "colab": {
          "base_uri": "https://localhost:8080/"
        },
        "id": "Ri12DSY_06bj",
        "outputId": "ced21b6a-acd0-4034-b1b6-d8edfb7dd813"
      },
      "execution_count": 103,
      "outputs": [
        {
          "output_type": "execute_result",
          "data": {
            "text/plain": [
              "(tensor([[0.0721, 0.2052, 0.5677, 0.0144, 0.0107],\n",
              "         [0.2448, 0.5118, 0.0137, 0.5892, 0.4475],\n",
              "         [0.5343, 0.1657, 0.4083, 0.2733, 0.3168],\n",
              "         [0.5955, 0.5832, 0.4874, 0.2824, 0.5124]]),\n",
              " tensor([[0.2191, 0.9798, 0.4012, 0.5044, 0.6466],\n",
              "         [0.3628, 0.8393, 0.8155, 0.8310, 0.9694],\n",
              "         [0.2611, 0.0628, 0.9383, 0.3078, 0.2064],\n",
              "         [0.6250, 0.9850, 0.9178, 0.9405, 0.3456]]))"
            ]
          },
          "metadata": {},
          "execution_count": 103
        }
      ]
    },
    {
      "cell_type": "code",
      "source": [
        "print(random_tensor_A==random_tensor_B)"
      ],
      "metadata": {
        "colab": {
          "base_uri": "https://localhost:8080/"
        },
        "id": "pwm0TBZr1XFJ",
        "outputId": "83acad37-a3d2-41bd-efcf-7e5f0502763c"
      },
      "execution_count": 106,
      "outputs": [
        {
          "output_type": "stream",
          "name": "stdout",
          "text": [
            "tensor([[False, False, False, False, False],\n",
            "        [False, False, False, False, False],\n",
            "        [False, False, False, False, False],\n",
            "        [False, False, False, False, False]])\n"
          ]
        }
      ]
    },
    {
      "cell_type": "code",
      "source": [
        "#setting a random seed\n",
        "RANDOM_SEED=42\n",
        "torch.manual_seed(RANDOM_SEED)\n",
        "\n",
        "random_tensor_C=torch.rand(4,5)\n",
        "\n",
        "torch.manual_seed(42)\n",
        "random_tensor_D=torch.rand(4,5)\n",
        "\n",
        "print(random_tensor_C==random_tensor_D)"
      ],
      "metadata": {
        "colab": {
          "base_uri": "https://localhost:8080/"
        },
        "id": "ke_MXDpc1d-S",
        "outputId": "ad9faa40-d2c6-4882-f4be-b9da568cce04"
      },
      "execution_count": 107,
      "outputs": [
        {
          "output_type": "stream",
          "name": "stdout",
          "text": [
            "tensor([[True, True, True, True, True],\n",
            "        [True, True, True, True, True],\n",
            "        [True, True, True, True, True],\n",
            "        [True, True, True, True, True]])\n"
          ]
        }
      ]
    },
    {
      "cell_type": "markdown",
      "source": [
        "Use `torch.manal_seed()` every time you use a torch function because it works for only one instance of torch"
      ],
      "metadata": {
        "id": "cZuRZt7813Lp"
      }
    },
    {
      "cell_type": "markdown",
      "source": [
        "##Running tensors and PyTorch objects on the GPU's\n"
      ],
      "metadata": {
        "id": "BdFM9NzH11VT"
      }
    },
    {
      "cell_type": "markdown",
      "source": [
        "###Getting a GPU\n",
        "\n",
        "1. Use the google colab gpu's\n",
        "2. Use your own GPU\n",
        "3. Use cloud computing- GCP,AWS and AZURE\n",
        "\n",
        "For 2,3 PyTorch+CUDA will need some setting up"
      ],
      "metadata": {
        "id": "dCwVMSOP2JqM"
      }
    },
    {
      "cell_type": "code",
      "source": [
        "##Checking for GPU\n",
        "torch.cuda.is_available()"
      ],
      "metadata": {
        "colab": {
          "base_uri": "https://localhost:8080/"
        },
        "id": "ejPdSAJG3BEN",
        "outputId": "236f9d40-5070-4256-fd50-8de81fbe87e6"
      },
      "execution_count": 108,
      "outputs": [
        {
          "output_type": "execute_result",
          "data": {
            "text/plain": [
              "True"
            ]
          },
          "metadata": {},
          "execution_count": 108
        }
      ]
    },
    {
      "cell_type": "code",
      "source": [
        "#Setup device agnostic code\n",
        "device='cuda' if torch.cuda.is_available() else 'cpu' #if gpu is available set device to cuda or else make it cpu\n",
        "device"
      ],
      "metadata": {
        "colab": {
          "base_uri": "https://localhost:8080/",
          "height": 35
        },
        "id": "-OEJqTOr3W2c",
        "outputId": "6ea5b261-1ac5-4848-bfec-fa6a22bca012"
      },
      "execution_count": 109,
      "outputs": [
        {
          "output_type": "execute_result",
          "data": {
            "text/plain": [
              "'cuda'"
            ],
            "application/vnd.google.colaboratory.intrinsic+json": {
              "type": "string"
            }
          },
          "metadata": {},
          "execution_count": 109
        }
      ]
    },
    {
      "cell_type": "code",
      "source": [
        "torch.cuda.device_count() #counting the number of gpu's"
      ],
      "metadata": {
        "colab": {
          "base_uri": "https://localhost:8080/"
        },
        "id": "hBjUOuED3n93",
        "outputId": "4aa375d5-c1d2-4f01-ab3a-965a2ced6e87"
      },
      "execution_count": 110,
      "outputs": [
        {
          "output_type": "execute_result",
          "data": {
            "text/plain": [
              "1"
            ]
          },
          "metadata": {},
          "execution_count": 110
        }
      ]
    },
    {
      "cell_type": "markdown",
      "source": [
        "###Putting Tensors to GPU's"
      ],
      "metadata": {
        "id": "f_MqSafe3sXK"
      }
    },
    {
      "cell_type": "code",
      "source": [
        "#creating a tensor\n",
        "tensor=torch.rand([4,5],device='cpu')\n",
        "print(tensor,tensor.device)\n",
        "\n",
        "\n"
      ],
      "metadata": {
        "colab": {
          "base_uri": "https://localhost:8080/"
        },
        "id": "7WgHMlvg39mj",
        "outputId": "95b90f93-1143-4241-b63a-23d6130c0033"
      },
      "execution_count": 111,
      "outputs": [
        {
          "output_type": "stream",
          "name": "stdout",
          "text": [
            "tensor([[0.2696, 0.4414, 0.2969, 0.8317, 0.1053],\n",
            "        [0.2695, 0.3588, 0.1994, 0.5472, 0.0062],\n",
            "        [0.9516, 0.0753, 0.8860, 0.5832, 0.3376],\n",
            "        [0.8090, 0.5779, 0.9040, 0.5547, 0.3423]]) cpu\n"
          ]
        }
      ]
    },
    {
      "cell_type": "code",
      "source": [
        "#move tensor to gpu\n",
        "tensor_on_gpu=tensor.to(device)\n",
        "tensor_on_gpu"
      ],
      "metadata": {
        "colab": {
          "base_uri": "https://localhost:8080/"
        },
        "id": "LRvhN8f44JDB",
        "outputId": "41b35c38-d29c-4140-90e1-792d687a2814"
      },
      "execution_count": 112,
      "outputs": [
        {
          "output_type": "execute_result",
          "data": {
            "text/plain": [
              "tensor([[0.2696, 0.4414, 0.2969, 0.8317, 0.1053],\n",
              "        [0.2695, 0.3588, 0.1994, 0.5472, 0.0062],\n",
              "        [0.9516, 0.0753, 0.8860, 0.5832, 0.3376],\n",
              "        [0.8090, 0.5779, 0.9040, 0.5547, 0.3423]], device='cuda:0')"
            ]
          },
          "metadata": {},
          "execution_count": 112
        }
      ]
    },
    {
      "cell_type": "code",
      "source": [
        "#if tensor is on gpu we cant convert it to numpy\n",
        "tensor_on_gpu.numpy()"
      ],
      "metadata": {
        "colab": {
          "base_uri": "https://localhost:8080/",
          "height": 159
        },
        "id": "RCKXoaJq4QSj",
        "outputId": "aa03391c-a665-4dda-e487-5bd34a33aec5"
      },
      "execution_count": 113,
      "outputs": [
        {
          "output_type": "error",
          "ename": "TypeError",
          "evalue": "can't convert cuda:0 device type tensor to numpy. Use Tensor.cpu() to copy the tensor to host memory first.",
          "traceback": [
            "\u001b[0;31m---------------------------------------------------------------------------\u001b[0m",
            "\u001b[0;31mTypeError\u001b[0m                                 Traceback (most recent call last)",
            "\u001b[0;32m<ipython-input-113-4153914518>\u001b[0m in \u001b[0;36m<cell line: 0>\u001b[0;34m()\u001b[0m\n\u001b[1;32m      1\u001b[0m \u001b[0;31m#if tensor is on gpu we cant convert it to numpy\u001b[0m\u001b[0;34m\u001b[0m\u001b[0;34m\u001b[0m\u001b[0m\n\u001b[0;32m----> 2\u001b[0;31m \u001b[0mtensor_on_gpu\u001b[0m\u001b[0;34m.\u001b[0m\u001b[0mnumpy\u001b[0m\u001b[0;34m(\u001b[0m\u001b[0;34m)\u001b[0m\u001b[0;34m\u001b[0m\u001b[0;34m\u001b[0m\u001b[0m\n\u001b[0m",
            "\u001b[0;31mTypeError\u001b[0m: can't convert cuda:0 device type tensor to numpy. Use Tensor.cpu() to copy the tensor to host memory first."
          ]
        }
      ]
    },
    {
      "cell_type": "code",
      "source": [
        "#to fix the above thing\n",
        "tensor_on_cpu=tensor_on_gpu.cpu().numpy()\n",
        "tensor_on_cpu"
      ],
      "metadata": {
        "colab": {
          "base_uri": "https://localhost:8080/"
        },
        "id": "39Cfz94V4g7a",
        "outputId": "c2e65ad4-29cb-4348-cc28-73b8abbcfdd2"
      },
      "execution_count": 114,
      "outputs": [
        {
          "output_type": "execute_result",
          "data": {
            "text/plain": [
              "array([[0.26963168, 0.44136357, 0.29692084, 0.8316855 , 0.10531491],\n",
              "       [0.26949483, 0.35881263, 0.19936377, 0.54719156, 0.00616044],\n",
              "       [0.95155454, 0.07526588, 0.8860137 , 0.5832096 , 0.33764774],\n",
              "       [0.808975  , 0.5779254 , 0.9039817 , 0.55465984, 0.3423134 ]],\n",
              "      dtype=float32)"
            ]
          },
          "metadata": {},
          "execution_count": 114
        }
      ]
    },
    {
      "cell_type": "code",
      "source": [],
      "metadata": {
        "id": "jGeewfsL4rlB"
      },
      "execution_count": null,
      "outputs": []
    }
  ]
}